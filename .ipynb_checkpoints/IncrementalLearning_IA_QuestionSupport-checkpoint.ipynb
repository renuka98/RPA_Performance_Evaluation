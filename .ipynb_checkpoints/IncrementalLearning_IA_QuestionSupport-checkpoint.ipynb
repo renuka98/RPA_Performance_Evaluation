{
 "cells": [
  {
   "cell_type": "markdown",
   "metadata": {},
   "source": [
    "## Simulating an IA that learns incrementally\n",
    "An IA can incrementally gain experience and improve performance much like a human agent. In this process of a call center answering user questions, the topic of the question can be determined by an **IA** based on the user click stream data.\n",
    "\n",
    "The *resource characteristics* of the IA is the **performance** that improves with time as the agent *learns* with more information from data\n",
    "\n",
    "The **experience** of the agent further increases\n"
   ]
  },
  {
   "cell_type": "code",
   "execution_count": 89,
   "metadata": {},
   "outputs": [],
   "source": [
    "import time\n",
    "\n",
    "import numpy as np\n",
    "import matplotlib.pyplot as plt\n",
    "from matplotlib import rcParams\n",
    "\n",
    "\n",
    "from sklearn.linear_model.stochastic_gradient import SGDClassifier\n",
    "from sklearn.linear_model import PassiveAggressiveClassifier\n",
    "from sklearn.linear_model import Perceptron\n",
    "from sklearn.naive_bayes import MultinomialNB\n",
    "import pandas as pd"
   ]
  },
  {
   "cell_type": "code",
   "execution_count": 90,
   "metadata": {},
   "outputs": [
    {
     "data": {
      "text/html": [
       "<div>\n",
       "<style scoped>\n",
       "    .dataframe tbody tr th:only-of-type {\n",
       "        vertical-align: middle;\n",
       "    }\n",
       "\n",
       "    .dataframe tbody tr th {\n",
       "        vertical-align: top;\n",
       "    }\n",
       "\n",
       "    .dataframe thead th {\n",
       "        text-align: right;\n",
       "    }\n",
       "</style>\n",
       "<table border=\"1\" class=\"dataframe\">\n",
       "  <thead>\n",
       "    <tr style=\"text-align: right;\">\n",
       "      <th></th>\n",
       "      <th>sessionID</th>\n",
       "      <th>page_name</th>\n",
       "      <th>customerID</th>\n",
       "      <th>ageCategory</th>\n",
       "      <th>gender</th>\n",
       "      <th>date</th>\n",
       "      <th>qtheme</th>\n",
       "      <th>qsubtheme</th>\n",
       "      <th>qtopic</th>\n",
       "    </tr>\n",
       "  </thead>\n",
       "  <tbody>\n",
       "    <tr>\n",
       "      <th>0</th>\n",
       "      <td>31276103</td>\n",
       "      <td>taken</td>\n",
       "      <td>1170218</td>\n",
       "      <td>40-49</td>\n",
       "      <td>M</td>\n",
       "      <td>2015-09-02</td>\n",
       "      <td>41</td>\n",
       "      <td>28370</td>\n",
       "      <td>28460</td>\n",
       "    </tr>\n",
       "    <tr>\n",
       "      <th>1</th>\n",
       "      <td>29687625</td>\n",
       "      <td>mijn_berichten</td>\n",
       "      <td>2024531</td>\n",
       "      <td>18-29</td>\n",
       "      <td>M</td>\n",
       "      <td>2015-08-26</td>\n",
       "      <td>41</td>\n",
       "      <td>28380</td>\n",
       "      <td>28898</td>\n",
       "    </tr>\n",
       "    <tr>\n",
       "      <th>2</th>\n",
       "      <td>14143796</td>\n",
       "      <td>taken</td>\n",
       "      <td>1928524</td>\n",
       "      <td>40-49</td>\n",
       "      <td>M</td>\n",
       "      <td>2015-08-31</td>\n",
       "      <td>41</td>\n",
       "      <td>28377</td>\n",
       "      <td>28503</td>\n",
       "    </tr>\n",
       "    <tr>\n",
       "      <th>3</th>\n",
       "      <td>5977596</td>\n",
       "      <td>wijziging_doorgeven</td>\n",
       "      <td>2018842</td>\n",
       "      <td>50-65</td>\n",
       "      <td>V</td>\n",
       "      <td>2015-08-25</td>\n",
       "      <td>41</td>\n",
       "      <td>28375</td>\n",
       "      <td>7778</td>\n",
       "    </tr>\n",
       "    <tr>\n",
       "      <th>4</th>\n",
       "      <td>24071002</td>\n",
       "      <td>home</td>\n",
       "      <td>1400900</td>\n",
       "      <td>18-29</td>\n",
       "      <td>M</td>\n",
       "      <td>2015-09-01</td>\n",
       "      <td>25658</td>\n",
       "      <td>25518</td>\n",
       "      <td>25572</td>\n",
       "    </tr>\n",
       "  </tbody>\n",
       "</table>\n",
       "</div>"
      ],
      "text/plain": [
       "   sessionID            page_name  customerID ageCategory gender       date  \\\n",
       "0   31276103                taken     1170218       40-49      M 2015-09-02   \n",
       "1   29687625       mijn_berichten     2024531       18-29      M 2015-08-26   \n",
       "2   14143796                taken     1928524       40-49      M 2015-08-31   \n",
       "3    5977596  wijziging_doorgeven     2018842       50-65      V 2015-08-25   \n",
       "4   24071002                 home     1400900       18-29      M 2015-09-01   \n",
       "\n",
       "   qtheme  qsubtheme  qtopic  \n",
       "0      41      28370   28460  \n",
       "1      41      28380   28898  \n",
       "2      41      28377   28503  \n",
       "3      41      28375    7778  \n",
       "4   25658      25518   25572  "
      ]
     },
     "execution_count": 90,
     "metadata": {},
     "output_type": "execute_result"
    }
   ],
   "source": [
    "#read the csv file and create a dataframe\n",
    "\n",
    "train_data = pd.read_csv(\"resources/question_click.csv\", sep=\",\")\n",
    "train_data['date'] = pd.to_datetime(train_data['date'])\n",
    "all_classes = train_data['qtheme'].unique()\n",
    "train_data.head(5)\n",
    "\n",
    "#print(all_classes)"
   ]
  },
  {
   "cell_type": "markdown",
   "metadata": {},
   "source": [
    "### Extracting relevant information from event log (features) \n",
    "Transform the event log using the one-hot encoding and aggregating session clicks for each customer and session. "
   ]
  },
  {
   "cell_type": "code",
   "execution_count": 91,
   "metadata": {},
   "outputs": [],
   "source": [
    "def transform(X, col_names, label_col):\n",
    "        \n",
    "   # transform cat cols\n",
    "    dt_transformed = pd.get_dummies(X[col_names])\n",
    "    dt_transformed['sessionID'] = X['sessionID']\n",
    "    dt_label = X.groupby('sessionID').first()[label_col]\n",
    "    del X\n",
    "    dt_transformed = dt_transformed.groupby('sessionID').sum()\n",
    "    \n",
    "    dt_transformed = dt_transformed.fillna(0)\n",
    "    #print(dt_transformed)\n",
    "    return dt_transformed, dt_label\n",
    "    "
   ]
  },
  {
   "cell_type": "markdown",
   "metadata": {},
   "source": [
    "### Chunking the data based on time to reflect new data processed by IA\n",
    "We first split the data multiple chunks. The last chunk is used as a **unseen data** and the remaining are incrementally added to train the classifier.\n",
    "\n",
    "\n",
    "The **unseen data** is used later to present an **online** scenario where the agent characteristics would be used to decide the level of automation."
   ]
  },
  {
   "cell_type": "code",
   "execution_count": 108,
   "metadata": {},
   "outputs": [
    {
     "name": "stdout",
     "output_type": "stream",
     "text": [
      "0 (120, 27) (120,)\n",
      "1 (120, 27) (120,)\n",
      "2 (120, 27) (120,)\n",
      "3 (120, 27) (120,)\n",
      "4 (120, 27) (120,)\n",
      "5 (120, 27) (120,)\n",
      "6 (120, 27) (120,)\n",
      "7 (120, 27) (120,)\n",
      "8 (120, 27) (120,)\n",
      "9 (120, 27) (120,)\n",
      "10 (36, 27) (36,)\n"
     ]
    }
   ],
   "source": [
    "dt_x, dt_y = transform(train_data, ['page_name', 'ageCategory', 'gender'], 'qtheme')\n",
    "#print(dt_x)\n",
    "\n",
    "data_xdict = dict()\n",
    "for g, df in dt_x.groupby(np.arange(len(dt_x)) // 200):\n",
    "    data_xdict[g]=df\n",
    "\n",
    "data_ydict = dict()\n",
    "for g, df in dt_y.groupby(np.arange(len(dt_y)) // 200):\n",
    "    data_ydict[g]=df\n",
    "\n",
    "for key in data_xdict.keys():\n",
    "    print(key, data_xdict[key].shape, data_ydict[key].shape)\n",
    "    \n",
    "#print(data)\n"
   ]
  },
  {
   "cell_type": "markdown",
   "metadata": {},
   "source": [
    "### Prepare the data for the machine learning classifier\n"
   ]
  },
  {
   "cell_type": "code",
   "execution_count": 112,
   "metadata": {},
   "outputs": [],
   "source": [
    "partial_fit_classifiers = {\n",
    "    'Perceptron': Perceptron()\n",
    "}"
   ]
  },
  {
   "cell_type": "markdown",
   "metadata": {},
   "source": [
    "### Train the machine learning model\n",
    "1. The data is split into train and test \n",
    "2. First hyper parameter tuning is done using grid search and cross validation (4-fold)\n",
    "3. The classifier performance is evaluated on the test set"
   ]
  },
  {
   "cell_type": "code",
   "execution_count": 113,
   "metadata": {},
   "outputs": [
    {
     "name": "stdout",
     "output_type": "stream",
     "text": [
      "9\n",
      "accuracy of  Perceptron  in iteration  0  =  0.9083333333333333\n",
      "accuracy of  Perceptron  in iteration  1  =  0.8\n",
      "accuracy of  Perceptron  in iteration  2  =  0.9166666666666666\n",
      "accuracy of  Perceptron  in iteration  3  =  0.9\n",
      "accuracy of  Perceptron  in iteration  4  =  0.95\n",
      "accuracy of  Perceptron  in iteration  5  =  0.9333333333333333\n",
      "accuracy of  Perceptron  in iteration  6  =  0.95\n",
      "accuracy of  Perceptron  in iteration  7  =  0.95\n",
      "accuracy of  Perceptron  in iteration  8  =  0.95\n"
     ]
    }
   ],
   "source": [
    "num_batches = len(data_xdict)-2\n",
    "print(num_batches)\n",
    "accuracy_dict=dict()\n",
    "\n",
    "X_test = data_xdict[num_batches-1]\n",
    "y_test = data_ydict[num_batches-1]\n",
    "\n",
    "total_vect_time=0\n",
    "\n",
    "for i in range(0,num_batches):\n",
    "\n",
    "    tick = time.time()\n",
    "    X_train = data_xdict[i]\n",
    "    y_train = data_ydict[i]\n",
    "    total_vect_time += time.time() - tick\n",
    "\n",
    "    for cls_name, cls in partial_fit_classifiers.items():\n",
    "        tick = time.time()\n",
    "        # update estimator with examples in the current mini-batch\n",
    "        cls.partial_fit(X_train, y_train, classes=all_classes)\n",
    "\n",
    "        # accumulate test accuracy stats\n",
    "        accuracy = cls.score(X_test, y_test)\n",
    "        if cls_name in accuracy_dict:\n",
    "            lst = accuracy_dict[cls_name]\n",
    "            lst.append(accuracy)\n",
    "            accuracy_dict[cls_name]= lst\n",
    "        else:\n",
    "            accuracy_dict[cls_name]=[accuracy]\n",
    "        print( 'accuracy of ', cls_name, ' in iteration ', i , \" = \", accuracy)\n",
    "\n",
    "\n"
   ]
  },
  {
   "cell_type": "code",
   "execution_count": 114,
   "metadata": {},
   "outputs": [
    {
     "data": {
      "image/png": "[encoded data removed]",
      "text/plain": [
       "<Figure size 432x288 with 1 Axes>"
      ]
     },
     "metadata": {
      "needs_background": "light"
     },
     "output_type": "display_data"
    }
   ],
   "source": [
    "%matplotlib inline\n",
    "\n",
    "import matplotlib\n",
    "import matplotlib.pyplot as plt\n",
    "\n",
    "fig = plt.figure()\n",
    "ax = plt.axes()\n",
    "\n",
    "for cls_name in accuracy_dict.keys():\n",
    "    ax.plot(accuracy_dict[cls_name]);"
   ]
  },
  {
   "cell_type": "markdown",
   "metadata": {},
   "source": [
    "### Evaluating resource characteristic on unseen data\n"
   ]
  },
  {
   "cell_type": "code",
   "execution_count": null,
   "metadata": {},
   "outputs": [],
   "source": []
  }
 ],
 "metadata": {
  "kernelspec": {
   "display_name": "Python 3",
   "language": "python",
   "name": "python3"
  },
  "language_info": {
   "codemirror_mode": {
    "name": "ipython",
    "version": 3
   },
   "file_extension": ".py",
   "mimetype": "text/x-python",
   "name": "python",
   "nbconvert_exporter": "python",
   "pygments_lexer": "ipython3",
   "version": "3.7.1"
  }
 },
 "nbformat": 4,
 "nbformat_minor": 2
}
