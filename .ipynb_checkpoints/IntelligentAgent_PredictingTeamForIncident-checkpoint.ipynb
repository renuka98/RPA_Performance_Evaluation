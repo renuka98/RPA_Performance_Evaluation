{
 "cells": [
  {
   "cell_type": "markdown",
   "metadata": {},
   "source": [
    "## Simulating an Intelligent Agent in an ITIL process\n",
    "An Information Technology Infrastructure Library (ITIL) *incident management process* consists of a customer calling the help desk agent and providing details of the issue such as the configuration item (CI) having the issue, the type of issue, and other inputs. The help desk agent provides some guidance and either closes the issue, or opens an *incident* for further action. The *incident* needs to be assigned to the right team for further resolution. This is usually done by a help desk personnel. Here we look at an **IA** automating the process of identifying the team using historical data and *training* an **IA**.\n",
    "\n",
    "The *resource characteristics* of the IA is the **performance** that varies with the **team** predicted by the **IA** based on the historical data captured\n",
    "\n",
    "The **experience** of the resource in predicting the team increases over time and can be used to adapt the process flow where a highly experienced IA can automatically route the ticket to the right team *without human supervison task*\n"
   ]
  },
  {
   "cell_type": "code",
   "execution_count": 15,
   "metadata": {},
   "outputs": [],
   "source": [
    "from sklearn.ensemble import RandomForestClassifier\n",
    "from sklearn.model_selection import train_test_split\n",
    "from sklearn.metrics import confusion_matrix\n",
    "from sklearn.utils.multiclass import unique_labels\n",
    "from sklearn.model_selection import GridSearchCV\n",
    "from sklearn.neighbors import KNeighborsClassifier\n",
    "from sklearn.metrics import precision_recall_fscore_support\n",
    "from sklearn.metrics import classification_report\n",
    "import pandas as pd"
   ]
  },
  {
   "cell_type": "markdown",
   "metadata": {},
   "source": [
    "### Training data and future unseen data\n",
    "\n",
    "The data used here is preprocessed based on the BPIC2014 log. The preprocessing code is available at load_bpic2014.py\n",
    "\n",
    "We first split the data into two parts. 10,000 records of historical data are used for training, cross validation and testing a random forest classifier. This becomes the automation agent.\n",
    "<br>\n",
    "|<------------------------------80% of historical data------------------------------>|<-----------20%---------------->|\n",
    "<br>\n",
    "|<---train classifier: 4-fold cross validation--->|<--eval. performance---->|<--online phase (unseen_data)-->|\n",
    "\n",
    "The **unseen data** is used later to present an **online** scenario where the agent characteristics would be used to decide the level of automation. This data has ~3000 events.\n",
    "\n",
    "team_train1.csv has 10000 records - This data is use to train and test the classifier"
   ]
  },
  {
   "cell_type": "code",
   "execution_count": 17,
   "metadata": {},
   "outputs": [
    {
     "data": {
      "text/html": [
       "<div>\n",
       "<style scoped>\n",
       "    .dataframe tbody tr th:only-of-type {\n",
       "        vertical-align: middle;\n",
       "    }\n",
       "\n",
       "    .dataframe tbody tr th {\n",
       "        vertical-align: top;\n",
       "    }\n",
       "\n",
       "    .dataframe thead th {\n",
       "        text-align: right;\n",
       "    }\n",
       "</style>\n",
       "<table border=\"1\" class=\"dataframe\">\n",
       "  <thead>\n",
       "    <tr style=\"text-align: right;\">\n",
       "      <th></th>\n",
       "      <th>CITYPE</th>\n",
       "      <th>CISUBTYPE</th>\n",
       "      <th>SERVCOMP</th>\n",
       "      <th>IMPACT</th>\n",
       "      <th>URGENCY</th>\n",
       "      <th>TEAM</th>\n",
       "      <th>TIMESTAMP</th>\n",
       "      <th>INTERACTIONID</th>\n",
       "      <th>INCIDENTID</th>\n",
       "      <th>DTYPE</th>\n",
       "    </tr>\n",
       "  </thead>\n",
       "  <tbody>\n",
       "    <tr>\n",
       "      <th>0</th>\n",
       "      <td>subapplication</td>\n",
       "      <td>Web Based Application</td>\n",
       "      <td>WBS000162</td>\n",
       "      <td>4</td>\n",
       "      <td>4</td>\n",
       "      <td>TEAM0003</td>\n",
       "      <td>2012-05-02 13:26:00</td>\n",
       "      <td>SD0000007</td>\n",
       "      <td>IM0000004</td>\n",
       "      <td>TRAIN</td>\n",
       "    </tr>\n",
       "    <tr>\n",
       "      <th>1</th>\n",
       "      <td>application</td>\n",
       "      <td>Web Based Application</td>\n",
       "      <td>WBS000088</td>\n",
       "      <td>3</td>\n",
       "      <td>3</td>\n",
       "      <td>TEAM0003</td>\n",
       "      <td>2012-12-03 15:35:00</td>\n",
       "      <td>SD0000011</td>\n",
       "      <td>IM0000005</td>\n",
       "      <td>TRAIN</td>\n",
       "    </tr>\n",
       "    <tr>\n",
       "      <th>2</th>\n",
       "      <td>application</td>\n",
       "      <td>Web Based Application</td>\n",
       "      <td>WBS000088</td>\n",
       "      <td>4</td>\n",
       "      <td>4</td>\n",
       "      <td>TEAM0003</td>\n",
       "      <td>2012-07-17 11:45:00</td>\n",
       "      <td>SD0000025</td>\n",
       "      <td>IM0000011</td>\n",
       "      <td>TRAIN</td>\n",
       "    </tr>\n",
       "    <tr>\n",
       "      <th>3</th>\n",
       "      <td>application</td>\n",
       "      <td>Web Based Application</td>\n",
       "      <td>WBS000088</td>\n",
       "      <td>4</td>\n",
       "      <td>4</td>\n",
       "      <td>TEAM0003</td>\n",
       "      <td>2012-08-22 16:25:00</td>\n",
       "      <td>SD0000034</td>\n",
       "      <td>IM0000015</td>\n",
       "      <td>TRAIN</td>\n",
       "    </tr>\n",
       "    <tr>\n",
       "      <th>4</th>\n",
       "      <td>application</td>\n",
       "      <td>Web Based Application</td>\n",
       "      <td>WBS000088</td>\n",
       "      <td>4</td>\n",
       "      <td>4</td>\n",
       "      <td>TEAM0003</td>\n",
       "      <td>2012-09-21 12:54:00</td>\n",
       "      <td>SD0000040</td>\n",
       "      <td>IM0000019</td>\n",
       "      <td>TRAIN</td>\n",
       "    </tr>\n",
       "  </tbody>\n",
       "</table>\n",
       "</div>"
      ],
      "text/plain": [
       "           CITYPE              CISUBTYPE   SERVCOMP  IMPACT  URGENCY  \\\n",
       "0  subapplication  Web Based Application  WBS000162       4        4   \n",
       "1     application  Web Based Application  WBS000088       3        3   \n",
       "2     application  Web Based Application  WBS000088       4        4   \n",
       "3     application  Web Based Application  WBS000088       4        4   \n",
       "4     application  Web Based Application  WBS000088       4        4   \n",
       "\n",
       "       TEAM           TIMESTAMP INTERACTIONID INCIDENTID  DTYPE  \n",
       "0  TEAM0003 2012-05-02 13:26:00     SD0000007  IM0000004  TRAIN  \n",
       "1  TEAM0003 2012-12-03 15:35:00     SD0000011  IM0000005  TRAIN  \n",
       "2  TEAM0003 2012-07-17 11:45:00     SD0000025  IM0000011  TRAIN  \n",
       "3  TEAM0003 2012-08-22 16:25:00     SD0000034  IM0000015  TRAIN  \n",
       "4  TEAM0003 2012-09-21 12:54:00     SD0000040  IM0000019  TRAIN  "
      ]
     },
     "execution_count": 17,
     "metadata": {},
     "output_type": "execute_result"
    }
   ],
   "source": [
    "#read the csv file and create a dataframe\n",
    "\n",
    "train_data = pd.read_csv(\"resources/team_train1.csv\", sep=\",\")\n",
    "train_data['TIMESTAMP'] = pd.to_datetime(train_data['TIMESTAMP'])\n",
    "train_data['DTYPE']='TRAIN'\n",
    "train_data.head(5)\n"
   ]
  },
  {
   "cell_type": "markdown",
   "metadata": {},
   "source": [
    "### Future or unseen data\n",
    "This is the data that is used to identify the LOA achieved by the IA (~3000 interactions)\n"
   ]
  },
  {
   "cell_type": "code",
   "execution_count": 18,
   "metadata": {},
   "outputs": [
    {
     "data": {
      "text/html": [
       "<div>\n",
       "<style scoped>\n",
       "    .dataframe tbody tr th:only-of-type {\n",
       "        vertical-align: middle;\n",
       "    }\n",
       "\n",
       "    .dataframe tbody tr th {\n",
       "        vertical-align: top;\n",
       "    }\n",
       "\n",
       "    .dataframe thead th {\n",
       "        text-align: right;\n",
       "    }\n",
       "</style>\n",
       "<table border=\"1\" class=\"dataframe\">\n",
       "  <thead>\n",
       "    <tr style=\"text-align: right;\">\n",
       "      <th></th>\n",
       "      <th>CITYPE</th>\n",
       "      <th>CISUBTYPE</th>\n",
       "      <th>SERVCOMP</th>\n",
       "      <th>IMPACT</th>\n",
       "      <th>URGENCY</th>\n",
       "      <th>TEAM</th>\n",
       "      <th>TIMESTAMP</th>\n",
       "      <th>INTERACTIONID</th>\n",
       "      <th>INCIDENTID</th>\n",
       "      <th>DTYPE</th>\n",
       "    </tr>\n",
       "  </thead>\n",
       "  <tbody>\n",
       "    <tr>\n",
       "      <th>0</th>\n",
       "      <td>application</td>\n",
       "      <td>Server Based Application</td>\n",
       "      <td>WBS000099</td>\n",
       "      <td>4</td>\n",
       "      <td>4</td>\n",
       "      <td>TEAM0008</td>\n",
       "      <td>2014-07-02 09:18:00</td>\n",
       "      <td>SD0106323</td>\n",
       "      <td>IM0034916</td>\n",
       "      <td>UNSEEN</td>\n",
       "    </tr>\n",
       "    <tr>\n",
       "      <th>1</th>\n",
       "      <td>computer</td>\n",
       "      <td>Laptop</td>\n",
       "      <td>WBS000091</td>\n",
       "      <td>5</td>\n",
       "      <td>5</td>\n",
       "      <td>TEAM0008</td>\n",
       "      <td>2014-07-02 09:19:00</td>\n",
       "      <td>SD0106325</td>\n",
       "      <td>IM0034915</td>\n",
       "      <td>UNSEEN</td>\n",
       "    </tr>\n",
       "    <tr>\n",
       "      <th>2</th>\n",
       "      <td>application</td>\n",
       "      <td>Server Based Application</td>\n",
       "      <td>WBS000043</td>\n",
       "      <td>5</td>\n",
       "      <td>5</td>\n",
       "      <td>TEAM0175</td>\n",
       "      <td>2014-07-02 09:21:00</td>\n",
       "      <td>SD0106327</td>\n",
       "      <td>IM0034917</td>\n",
       "      <td>UNSEEN</td>\n",
       "    </tr>\n",
       "    <tr>\n",
       "      <th>3</th>\n",
       "      <td>application</td>\n",
       "      <td>Server Based Application</td>\n",
       "      <td>WBS000264</td>\n",
       "      <td>5</td>\n",
       "      <td>5</td>\n",
       "      <td>TEAM0175</td>\n",
       "      <td>2014-07-02 09:26:00</td>\n",
       "      <td>SD0106332</td>\n",
       "      <td>IM0035037</td>\n",
       "      <td>UNSEEN</td>\n",
       "    </tr>\n",
       "    <tr>\n",
       "      <th>4</th>\n",
       "      <td>subapplication</td>\n",
       "      <td>Web Based Application</td>\n",
       "      <td>WBS000073</td>\n",
       "      <td>4</td>\n",
       "      <td>4</td>\n",
       "      <td>TEAM0187</td>\n",
       "      <td>2014-07-02 09:28:00</td>\n",
       "      <td>SD0106376</td>\n",
       "      <td>IM0034951</td>\n",
       "      <td>UNSEEN</td>\n",
       "    </tr>\n",
       "  </tbody>\n",
       "</table>\n",
       "</div>"
      ],
      "text/plain": [
       "           CITYPE                 CISUBTYPE   SERVCOMP  IMPACT  URGENCY  \\\n",
       "0     application  Server Based Application  WBS000099       4        4   \n",
       "1        computer                    Laptop  WBS000091       5        5   \n",
       "2     application  Server Based Application  WBS000043       5        5   \n",
       "3     application  Server Based Application  WBS000264       5        5   \n",
       "4  subapplication     Web Based Application  WBS000073       4        4   \n",
       "\n",
       "       TEAM           TIMESTAMP INTERACTIONID INCIDENTID   DTYPE  \n",
       "0  TEAM0008 2014-07-02 09:18:00     SD0106323  IM0034916  UNSEEN  \n",
       "1  TEAM0008 2014-07-02 09:19:00     SD0106325  IM0034915  UNSEEN  \n",
       "2  TEAM0175 2014-07-02 09:21:00     SD0106327  IM0034917  UNSEEN  \n",
       "3  TEAM0175 2014-07-02 09:26:00     SD0106332  IM0035037  UNSEEN  \n",
       "4  TEAM0187 2014-07-02 09:28:00     SD0106376  IM0034951  UNSEEN  "
      ]
     },
     "execution_count": 18,
     "metadata": {},
     "output_type": "execute_result"
    }
   ],
   "source": [
    "unseen_data = pd.read_csv(\"resources/team_test1.csv\", sep=\",\")\n",
    "unseen_data['TIMESTAMP'] = pd.to_datetime(unseen_data['TIMESTAMP'])\n",
    "unseen_data['DTYPE']='UNSEEN'\n",
    "unseen_data.head(5)\n",
    "\n"
   ]
  },
  {
   "cell_type": "markdown",
   "metadata": {},
   "source": [
    "### Extracting relevant information from event log (features) \n",
    "Transform the event log using the one-hot encoding for each of the categorical variable"
   ]
  },
  {
   "cell_type": "code",
   "execution_count": 19,
   "metadata": {},
   "outputs": [],
   "source": [
    "from sklearn.base import TransformerMixin\n",
    "import pandas as pd\n",
    "from time import time\n",
    "\n",
    "class InputTransformer(TransformerMixin):\n",
    "    \n",
    "    def __init__(self, num_cols, cat_cols):\n",
    "        self.num_cols = num_cols\n",
    "        self.cat_cols = cat_cols\n",
    "      \n",
    "    def fit(self, X, y=None):\n",
    "        return self\n",
    "      \n",
    "    def transform(self, X, y=None):\n",
    "        \n",
    "        dt_transformed=pd.DataFrame()\n",
    "      # transform numeric cols\n",
    "        if(self.num_cols):\n",
    "            dt_transformed = X[self.num_cols]\n",
    "        \n",
    "        # transform cat cols\n",
    "        if len(self.cat_cols) > 0:\n",
    "            print(self.cat_cols)\n",
    "            dt_cat = pd.get_dummies(X[self.cat_cols])\n",
    "            dt_transformed = pd.concat([dt_transformed, dt_cat], axis=1)\n",
    "            dt_transformed = dt_transformed.fillna(0)\n",
    "            \n",
    "        # add missing columns if necessary\n",
    "        return dt_transformed\n",
    "    \n",
    "    def get_feature_names(self):\n",
    "        return self.cat_cols\n",
    "    "
   ]
  },
  {
   "cell_type": "markdown",
   "metadata": {},
   "source": [
    "### Prepare the data for the machine learning classifier\n"
   ]
  },
  {
   "cell_type": "code",
   "execution_count": 33,
   "metadata": {},
   "outputs": [
    {
     "name": "stdout",
     "output_type": "stream",
     "text": [
      "['CITYPE', 'CISUBTYPE', 'SERVCOMP']\n",
      "Total number of columns 3\n",
      "(19758,)\n"
     ]
    }
   ],
   "source": [
    "#set up the transformer\n",
    "from sklearn.pipeline import FeatureUnion\n",
    "import sklearn\n",
    "\n",
    "intx=InputTransformer(num_cols=['DTYPE'], cat_cols=['CITYPE','CISUBTYPE','SERVCOMP'])\n",
    "#append the data for transformation\n",
    "train_data = train_data.append(unseen_data)\n",
    "data_train_transformed=intx.fit_transform(train_data)\n",
    "\n",
    "#print(data_train_transformed)\n",
    "labels_train=train_data['TEAM']\n",
    "labels_train.head(5)\n",
    "\n",
    "\n",
    "feature_names= intx.get_feature_names()\n",
    "#get encoded column\n",
    "print('Total number of columns', len(feature_names))\n",
    "\n",
    "\n",
    "le = sklearn.preprocessing.LabelEncoder()\n",
    "le.fit(labels_train)\n",
    "print(labels_train.shape)\n"
   ]
  },
  {
   "cell_type": "markdown",
   "metadata": {},
   "source": [
    "### Preprocessing the data\n",
    "\n",
    "Prepare the data. First get the transformed data and split it into the train and unseen data\n",
    "The train data is used to train and cross validate the classifier"
   ]
  },
  {
   "cell_type": "code",
   "execution_count": 38,
   "metadata": {},
   "outputs": [
    {
     "name": "stdout",
     "output_type": "stream",
     "text": [
      "(4807,)\n",
      "(9999,)\n",
      "(9999, 297)\n",
      "(9999,)\n",
      "(9759, 297)\n",
      "Filtered training data size (4807, 297) (4807,)\n",
      "[[0 0 0 ... 0 0 0]\n",
      " [0 0 1 ... 0 0 0]\n",
      " [0 0 1 ... 0 0 0]\n",
      " ...\n",
      " [0 0 0 ... 0 0 0]\n",
      " [0 0 1 ... 0 0 0]\n",
      " [0 0 1 ... 0 0 0]]\n"
     ]
    },
    {
     "data": {
      "text/plain": [
       "(array([0.13, 0.03, 0.02, 0.  , 0.01, 0.01, 0.02, 0.  , 0.  , 0.02]),\n",
       " array([ 1. ,  5.2,  9.4, 13.6, 17.8, 22. , 26.2, 30.4, 34.6, 38.8, 43. ]),\n",
       " <a list of 10 Patch objects>)"
      ]
     },
     "execution_count": 38,
     "metadata": {},
     "output_type": "execute_result"
    },
    {
     "data": {
      "image/png": "[encoded data removed]",
      "text/plain": [
       "<Figure size 432x288 with 1 Axes>"
      ]
     },
     "metadata": {
      "needs_background": "light"
     },
     "output_type": "display_data"
    }
   ],
   "source": [
    "#need to remove some small represented classes for the current work. \n",
    "import collections\n",
    "import numpy as np\n",
    "print(labels_train.shape)\n",
    "\n",
    "#split the transformed data into train and unseen\n",
    "is_train =  data_train_transformed['DTYPE']==\"TRAIN\"\n",
    "is_unseen = data_train_transformed['DTYPE']==\"UNSEEN\"\n",
    "\n",
    "data_train = data_train_transformed[is_train]\n",
    "data_train.drop('DTYPE', axis=1, inplace=True)\n",
    "data_train = data_train.to_numpy(copy=True)\n",
    "\n",
    "data_unseen = data_train_transformed[is_unseen]\n",
    "data_unseen.drop('DTYPE', axis=1, inplace=True)\n",
    "data_unseen = data_unseen.to_numpy(copy=True)\n",
    "\n",
    "df_labels = train_data.loc[:,['TEAM', 'DTYPE']]\n",
    "#print(labels_train)\n",
    "labels_unseen = df_labels[is_unseen]\n",
    "labels_train = df_labels[is_train]\n",
    "\n",
    "labels_train = labels_train['TEAM']\n",
    "labels_unseen=labels_unseen['TEAM']\n",
    "\n",
    "labels_train = le.transform(labels_train)\n",
    "labels_unseen = le.transform(labels_unseen)\n",
    "\n",
    "print(labels_train.shape)\n",
    "print(data_train.shape)\n",
    "print(labels_train.shape)\n",
    "print(data_unseen.shape)\n",
    "\n",
    "c = collections.Counter(labels_train)\n",
    "for key, val in c.items():  # This criteria is used to view the confusion matrix, the method does not change \n",
    "    if val < 250:           # Reduce this to increase the # of output classes \n",
    "        indices = [i for (i, v) in enumerate(labels_train) if v == key]\n",
    "        labels_train = np.delete(labels_train, indices, 0)\n",
    "        data_train = np.delete(data_train, indices, 0)\n",
    "\n",
    "        tindices = [i for (i, v) in enumerate(labels_unseen) if v == key]\n",
    "        labels_unseen = np.delete(labels_unseen, tindices, 0)\n",
    "        data_unseen = np.delete(data_unseen, tindices, 0)\n",
    "        \n",
    "print('Filtered training data size', data_train.shape, labels_train.shape)\n",
    "\n",
    "print(data_train)\n",
    "\n",
    "%matplotlib inline\n",
    "\n",
    "import matplotlib\n",
    "import matplotlib.pyplot as plt\n",
    "\n",
    "fig = plt.figure()\n",
    "ax = plt.axes()\n",
    "\n",
    "ax.hist(labels_train, density=True)"
   ]
  },
  {
   "cell_type": "markdown",
   "metadata": {},
   "source": [
    "### Train the machine learning model\n",
    "1. The data is split into train and test \n",
    "2. First hyper parameter tuning is done using grid search and cross validation (4-fold)\n",
    "3. The classifier performance is evaluated on the test set"
   ]
  },
  {
   "cell_type": "code",
   "execution_count": 39,
   "metadata": {},
   "outputs": [
    {
     "name": "stdout",
     "output_type": "stream",
     "text": [
      "(3605, 297) (1202, 297)\n",
      "(3605,) (1202,)\n",
      "              precision    recall  f1-score   support\n",
      "\n",
      "           1       0.92      0.90      0.91        88\n",
      "           3       0.45      0.70      0.55        98\n",
      "           4       0.93      0.78      0.84       455\n",
      "           7       0.81      0.83      0.82        81\n",
      "           9       0.69      0.94      0.80        67\n",
      "          13       0.43      0.72      0.54       122\n",
      "          19       0.00      0.00      0.00        78\n",
      "          23       0.56      0.37      0.45        62\n",
      "          30       0.69      0.87      0.77        78\n",
      "          43       0.98      0.86      0.92        73\n",
      "\n",
      "    accuracy                           0.73      1202\n",
      "   macro avg       0.65      0.70      0.66      1202\n",
      "weighted avg       0.72      0.73      0.71      1202\n",
      "\n",
      "Accuracy 0.7262895174708819\n"
     ]
    },
    {
     "name": "stderr",
     "output_type": "stream",
     "text": [
      "C:\\conda\\anaconda3\\lib\\site-packages\\sklearn\\metrics\\classification.py:1437: UndefinedMetricWarning: Precision and F-score are ill-defined and being set to 0.0 in labels with no predicted samples.\n",
      "  'precision', 'predicted', average, warn_for)\n"
     ]
    }
   ],
   "source": [
    "search=False\n",
    "rf = sklearn.ensemble.RandomForestClassifier()\n",
    "X_train, X_test, y_train, y_test = train_test_split(data_train, labels_train, random_state=0)\n",
    "\n",
    "\n",
    "print(X_train.shape, X_test.shape)\n",
    "print(y_train.shape, y_test.shape)\n",
    "            \n",
    "param_grid = {\n",
    "    'bootstrap': [True],\n",
    "    'max_depth': [90, 100, 110],\n",
    "    'max_features': [5, 10, 20, 100],\n",
    "    'min_samples_leaf': [3, 4, 5],\n",
    "    'min_samples_split': [8, 10, 12],\n",
    "    'n_estimators': [100, 200, 300, 1000]\n",
    "}\n",
    "\n",
    "#best params after grid_search\n",
    "#{'bootstrap': True, 'max_depth': 90, 'max_features': 100, 'min_samples_leaf': 3, 'min_samples_split': 10, 'n_estimators': 1000}\n",
    "            \n",
    "if search==True:\n",
    "    grid_search = GridSearchCV(estimator = rf, param_grid = param_grid, \n",
    "                          cv = 5, n_jobs = -1, verbose = 2)\n",
    "\n",
    "    grid_search.fit(X_train, y_train)\n",
    "    print(grid_search.best_params_)\n",
    "    cls = grid_search.best_estimator_\n",
    "\n",
    "else:\n",
    "    cls = sklearn.ensemble.RandomForestClassifier(n_estimators=1000, max_depth=90, min_samples_split=10,\n",
    "                                             min_samples_leaf=3,  max_features=100)\n",
    "    cls.fit(X_train, y_train)\n",
    "\n",
    "\n",
    "pred =  cls.predict(X_test)\n",
    "\n",
    "from sklearn.metrics import accuracy_score\n",
    "sklearn.metrics.accuracy_score(y_test, pred)\n",
    "\n",
    "from sklearn.metrics import classification_report\n",
    "print(classification_report(y_test, pred))\n",
    "\n",
    "accuracy = accuracy_score(y_test, pred)\n",
    "print('Accuracy', accuracy)\n"
   ]
  },
  {
   "cell_type": "markdown",
   "metadata": {},
   "source": [
    "### Generating the confusion matrix on the test data\n",
    "The 20% of the data is used to generate the confusion matrix. This can also be considered as a **validation** set."
   ]
  },
  {
   "cell_type": "code",
   "execution_count": 40,
   "metadata": {},
   "outputs": [
    {
     "name": "stdout",
     "output_type": "stream",
     "text": [
      "Confusion matrix, without normalization\n",
      "Normalized confusion matrix\n"
     ]
    },
    {
     "data": {
      "image/png": "[encoded data removed]",
      "text/plain": [
       "<Figure size 864x576 with 2 Axes>"
      ]
     },
     "metadata": {
      "needs_background": "light"
     },
     "output_type": "display_data"
    },
    {
     "data": {
      "image/png": "[encoded data removed]",
      "text/plain": [
       "<Figure size 864x576 with 2 Axes>"
      ]
     },
     "metadata": {
      "needs_background": "light"
     },
     "output_type": "display_data"
    }
   ],
   "source": [
    "%matplotlib inline\n",
    "\n",
    "import matplotlib\n",
    "import matplotlib.pyplot as plt\n",
    "\n",
    "from sklearn.metrics import confusion_matrix\n",
    "from sklearn.utils.multiclass import unique_labels\n",
    "\n",
    "def plot_confusion_matrix(y_true, y_pred, classes,\n",
    "                          normalize=False,\n",
    "                          title=None,\n",
    "                          cmap=plt.cm.Blues):\n",
    "    \"\"\"\n",
    "    This function prints and plots the confusion matrix.\n",
    "    Normalization can be applied by setting `normalize=True`.\n",
    "    \"\"\"\n",
    "    if not title:\n",
    "        if normalize:\n",
    "            title = 'Normalized confusion matrix'\n",
    "        else:\n",
    "            title = 'Confusion matrix, without normalization'\n",
    "\n",
    "    # Compute confusion matrix\n",
    "    cm = confusion_matrix(y_true, y_pred)\n",
    "    # Only use the labels that appear in the data\n",
    "    classes = classes[unique_labels(y_true, y_pred)]\n",
    "    if normalize:\n",
    "        cm = cm.astype('float') / cm.sum(axis=1)[:, np.newaxis]\n",
    "        print(\"Normalized confusion matrix\")\n",
    "    else:\n",
    "        print('Confusion matrix, without normalization')\n",
    "\n",
    "    #print(cm)\n",
    "\n",
    "    fig, ax = plt.subplots()\n",
    "    im = ax.imshow(cm, interpolation='nearest', cmap=cmap)\n",
    "    ax.figure.colorbar(im, ax=ax)\n",
    "    fig.set_size_inches(12, 8)\n",
    "    # We want to show all ticks...\n",
    "    ax.set(xticks=np.arange(cm.shape[1]),\n",
    "           yticks=np.arange(cm.shape[0]),\n",
    "           # ... and label them with the respective list entries\n",
    "           xticklabels=classes, yticklabels=classes,\n",
    "           title=title,\n",
    "           ylabel='True label',\n",
    "           xlabel='Predicted label')\n",
    "    ax.tick_params(axis='both', which='major', labelsize=12)\n",
    "\n",
    "    # Rotate the tick labels and set their alignment.\n",
    "    plt.setp(ax.get_xticklabels(), rotation=45, ha=\"right\",\n",
    "             rotation_mode=\"anchor\")\n",
    "    \n",
    "    \n",
    "    # Loop over data dimensions and create text annotations.\n",
    "    fmt = '.2f' if normalize else 'd'\n",
    "    thresh = cm.max() / 2.\n",
    "    for i in range(cm.shape[0]):\n",
    "        for j in range(cm.shape[1]):\n",
    "            ax.text(j, i, format(cm[i, j], fmt),\n",
    "                    ha=\"center\", va=\"center\",\n",
    "                    color=\"white\" if cm[i, j] > thresh else \"black\")\n",
    "    fig.tight_layout()\n",
    "    return ax\n",
    "\n",
    "\n",
    "np.set_printoptions(precision=2)\n",
    "\n",
    "# Plot non-normalized confusion matrix\n",
    "plot_confusion_matrix(y_test, pred, classes=class_names,\n",
    "                      title='Confusion matrix, without normalization')\n",
    "\n",
    "# Plot normalized confusion matrix\n",
    "plot_confusion_matrix(y_test, pred, classes=class_names, normalize=True,\n",
    "                      title='Normalized confusion matrix')\n",
    "\n",
    "\n",
    "plt.show()"
   ]
  },
  {
   "cell_type": "markdown",
   "metadata": {},
   "source": [
    "### Evaluating resource characteristics on unseen data (online phase)\n",
    "Store the confusion matrix - predict and identify the performance of the IA for based on the confusion matrix. \n",
    "\n"
   ]
  },
  {
   "cell_type": "code",
   "execution_count": 50,
   "metadata": {},
   "outputs": [
    {
     "name": "stderr",
     "output_type": "stream",
     "text": [
      "C:\\conda\\anaconda3\\lib\\site-packages\\sklearn\\metrics\\classification.py:1437: UndefinedMetricWarning: Precision and F-score are ill-defined and being set to 0.0 in labels with no predicted samples.\n",
      "  'precision', 'predicted', average, warn_for)\n",
      "C:\\conda\\anaconda3\\lib\\site-packages\\sklearn\\metrics\\classification.py:1437: UndefinedMetricWarning: Precision and F-score are ill-defined and being set to 0.0 in labels with no predicted samples.\n",
      "  'precision', 'predicted', average, warn_for)\n",
      "C:\\conda\\anaconda3\\lib\\site-packages\\sklearn\\metrics\\classification.py:1437: UndefinedMetricWarning: Precision and F-score are ill-defined and being set to 0.0 in labels with no predicted samples.\n",
      "  'precision', 'predicted', average, warn_for)\n"
     ]
    },
    {
     "name": "stdout",
     "output_type": "stream",
     "text": [
      "{'1': 0.9080459770114941, '3': 0.549800796812749, '4': 0.8444976076555024, '7': 0.8170731707317075, '9': 0.7974683544303798, '13': 0.5398773006134968, '19': 0.0, '23': 0.44660194174757284, '30': 0.768361581920904, '43': 0.9197080291970804, 'macro avg': 0.6591434760120887, 'weighted avg': 0.7140378391917069}\n",
      "[4 4 4 ... 3 4 3]\n"
     ]
    },
    {
     "data": {
      "text/plain": [
       "array([[<matplotlib.axes._subplots.AxesSubplot object at 0x0000025DF494CFD0>]],\n",
       "      dtype=object)"
      ]
     },
     "execution_count": 50,
     "metadata": {},
     "output_type": "execute_result"
    },
    {
     "data": {
      "image/png": "[encoded data removed]",
      "text/plain": [
       "<Figure size 432x288 with 1 Axes>"
      ]
     },
     "metadata": {},
     "output_type": "display_data"
    }
   ],
   "source": [
    "from sklearn.metrics import classification_report\n",
    "report = classification_report(y_test, pred, output_dict=True)\n",
    "\n",
    "f1_dict = dict()\n",
    "for key,val in report.items():\n",
    "    if isinstance(val,dict):\n",
    "        f1_dict[key] = val['f1-score']\n",
    "        \n",
    "#print(f1_dict)\n",
    "\n",
    "unseen_pred =  cls.predict(data_unseen)\n",
    "#print(labels_unseen)\n",
    "\n",
    "df = pd.DataFrame({'predicted': unseen_pred})\n",
    "df['score']= df['predicted'].apply(lambda x: f1_dict[str(x)])\n",
    "\n",
    "\n",
    "df.hist(column='score')"
   ]
  },
  {
   "cell_type": "code",
   "execution_count": null,
   "metadata": {},
   "outputs": [],
   "source": []
  }
 ],
 "metadata": {
  "kernelspec": {
   "display_name": "Python 3",
   "language": "python",
   "name": "python3"
  },
  "language_info": {
   "codemirror_mode": {
    "name": "ipython",
    "version": 3
   },
   "file_extension": ".py",
   "mimetype": "text/x-python",
   "name": "python",
   "nbconvert_exporter": "python",
   "pygments_lexer": "ipython3",
   "version": "3.7.1"
  }
 },
 "nbformat": 4,
 "nbformat_minor": 2
}
