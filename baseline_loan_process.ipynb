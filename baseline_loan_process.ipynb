{
  "nbformat": 4,
  "nbformat_minor": 0,
  "metadata": {
    "colab": {
      "name": "baseline_loan_process",
      "provenance": [],
      "collapsed_sections": [],
      "include_colab_link": true
    },
    "kernelspec": {
      "name": "python3",
      "display_name": "Python 3"
    }
  },
  "cells": [
    {
      "cell_type": "markdown",
      "metadata": {
        "id": "view-in-github",
        "colab_type": "text"
      },
      "source": [
        "<a href=\"https://colab.research.google.com/github/renuka98/RPA_Performance_Evaluation/blob/master/baseline_loan_process.ipynb\" target=\"_parent\"><img src=\"https://colab.research.google.com/assets/colab-badge.svg\" alt=\"Open In Colab\"/></a>"
      ]
    },
    {
      "cell_type": "markdown",
      "metadata": {
        "id": "sdQdSELMwWRS",
        "colab_type": "text"
      },
      "source": [
        "Learning Keras\n"
      ]
    },
    {
      "cell_type": "code",
      "metadata": {
        "id": "1Ap8qw2w6H18",
        "colab_type": "code",
        "colab": {}
      },
      "source": [
        "import pandas as pd\n",
        "import numpy as np\n",
        "\n",
        "from sklearn.metrics import roc_auc_score\n",
        "from sklearn.pipeline import FeatureUnion, Pipeline\n",
        "from sklearn.preprocessing import StandardScaler\n",
        "\n",
        "import time\n",
        "import os\n",
        "import sys\n",
        "from sys import argv\n",
        "import pickle\n",
        "from collections import defaultdict\n"
      ],
      "execution_count": 0,
      "outputs": []
    },
    {
      "cell_type": "code",
      "metadata": {
        "id": "LrnqrCAKnPE_",
        "colab_type": "code",
        "outputId": "1f5e24af-79af-47c9-b032-2ac0db1bed4a",
        "colab": {
          "base_uri": "https://localhost:8080/",
          "height": 34
        }
      },
      "source": [
        "from google.colab import drive\n",
        "drive.mount('/content/drive', force_remount=True)\n",
        "\n",
        "#"
      ],
      "execution_count": 0,
      "outputs": [
        {
          "output_type": "stream",
          "text": [
            "Mounted at /content/drive\n"
          ],
          "name": "stdout"
        }
      ]
    },
    {
      "cell_type": "code",
      "metadata": {
        "id": "Ygxrg4H1wS9K",
        "colab_type": "code",
        "outputId": "b85ea529-5865-4929-d2bc-5b6fdc7e57dd",
        "colab": {
          "base_uri": "https://localhost:8080/",
          "height": 84
        }
      },
      "source": [
        "\n",
        "import numpy as np\n",
        "from keras import preprocessing\n",
        "\n",
        "MY_WORKSPACE_DIR = \"/content/drive/My Drive/BPIC_Data/\"\n",
        "\n",
        "# add my working directory to the colab path\n",
        "import sys\n",
        "from sys import argv\n",
        "\n",
        "sys.path.append(MY_WORKSPACE_DIR)\n",
        "\n",
        "loan_data = pd.read_csv(MY_WORKSPACE_DIR +\"train_output_data.csv\", sep=\",\")\n",
        "\n",
        "from sklearn.utils import shuffle\n",
        "loan_data = shuffle(loan_data)\n",
        "\n",
        "#mask = loan_data['Status'] == 'O_Refused'\n",
        "#loan_data=loan_data[~mask]\n",
        "\n",
        "\n",
        "loan_labels=loan_data['Status']\n",
        "#drop all the columns in the data that may not be used\n",
        "loan_data =  loan_data.drop(['ApplicationID', 'Status', 'OfferID'], axis=1)\n",
        "\n",
        "\n",
        "dt_transformed = loan_data[['RequestedAmt','FirstWithdrawalAmount',\t'MonthyCost',\t'NumTerms',\t'OfferedAmount',\t'NumDays']]\n",
        "mean = dt_transformed.mean(axis=0)\n",
        "dt_transformed -= mean\n",
        "std = dt_transformed.std(axis=0)\n",
        "dt_transformed /= std\n",
        "dt_cat = pd.get_dummies(loan_data[['Type','Goal','Resource']])\n",
        "dt_transformed = pd.concat([dt_transformed, dt_cat], axis=1)\n",
        "dt_transformed = dt_transformed.fillna(0)\n",
        "dt_transformed.head(5)\n",
        "\n",
        "print(loan_labels.value_counts())\n",
        "\n"
      ],
      "execution_count": 0,
      "outputs": [
        {
          "output_type": "stream",
          "text": [
            "O_Accepted     12178\n",
            "O_Cancelled     7898\n",
            "O_Refused       2824\n",
            "Name: Status, dtype: int64\n"
          ],
          "name": "stdout"
        }
      ]
    },
    {
      "cell_type": "code",
      "metadata": {
        "id": "IZraHw9hIJwK",
        "colab_type": "code",
        "outputId": "d31d5219-54a4-4bb6-d58d-63828f91eddb",
        "colab": {
          "base_uri": "https://localhost:8080/",
          "height": 331
        }
      },
      "source": [
        "loan_Y =pd.get_dummies(loan_labels)\n",
        "\n",
        "#from sklearn.preprocessing import LabelEncoder\n",
        "#label_encoder = LabelEncoder()\n",
        "#loan_Y = label_encoder.fit_transform(loan_labels)\n",
        "\n",
        "from imblearn.over_sampling import RandomOverSampler\n",
        "ros = RandomOverSampler(random_state=0)\n",
        "#X_resampled, y_resampled = ros.fit_resample(dt_transformed.values, loan_Y)\n",
        "X_resampled, y_resampled = ros.fit_resample(dt_transformed.values, loan_Y.values)\n",
        "df_resamp = pd.DataFrame(y_resampled)\n",
        "df_resamp.hist()\n",
        "print(np.shape(X_resampled))\n",
        "\n",
        "from sklearn.model_selection import train_test_split\n",
        "train_X, test_X, train_labels, test_labels = train_test_split(X_resampled, y_resampled, test_size=0.20, random_state=42)\n",
        "\n",
        "print(np.shape(train_X))\n",
        "#print(loan_Y)\n",
        "print(np.sum(train_labels, axis=0)) # print across each column\n",
        "#test_labels.hist()\n",
        "\n",
        "x_val = train_X[:3000]\n",
        "partial_x_train = train_X[3000:]\n",
        "\n",
        "y_val = train_labels[:3000]\n",
        "partial_y_train = train_labels[3000:]\n",
        "\n",
        "#y_val.hist()"
      ],
      "execution_count": 0,
      "outputs": [
        {
          "output_type": "stream",
          "text": [
            "(36534, 134)\n",
            "(29227, 134)\n",
            "[9694 9811 9722]\n"
          ],
          "name": "stdout"
        },
        {
          "output_type": "display_data",
          "data": {
            "image/png": "[encoded data removed]",
            "text/plain": [
              "<Figure size 432x288 with 4 Axes>"
            ]
          },
          "metadata": {
            "tags": []
          }
        }
      ]
    },
    {
      "cell_type": "markdown",
      "metadata": {
        "id": "_jT0l2bvwzes",
        "colab_type": "text"
      },
      "source": [
        "Create all utility functions\n"
      ]
    },
    {
      "cell_type": "code",
      "metadata": {
        "id": "j_bJ43Gyw9tU",
        "colab_type": "code",
        "outputId": "28f3932f-9075-446a-8658-39d329c3596f",
        "colab": {
          "base_uri": "https://localhost:8080/",
          "height": 1000
        }
      },
      "source": [
        "from keras import models\n",
        "from keras import layers\n",
        "from keras import regularizers\n",
        "\n",
        "\n",
        "model = models.Sequential()\n",
        "model.add(layers.Dense(64, kernel_regularizer=regularizers.l2(0.0005), activation='relu', input_shape=(train_X.shape[1],)))\n",
        "model.add(layers.Dropout(0.1))\n",
        "model.add(layers.Dense(32, kernel_regularizer=regularizers.l2(0.0005), activation='relu'))\n",
        "model.add(layers.Dropout(0.1))\n",
        "#model.add(layers.Dense(24, kernel_regularizer=regularizers.l2(0.001), activation='relu'))\n",
        "#model.add(layers.Dropout(0.2))\n",
        "model.add(layers.Dense(3, activation='softmax'))\n",
        "\n",
        "\n",
        "from keras import losses\n",
        "from keras import metrics\n",
        "from keras import optimizers\n",
        "\n",
        "#model.compile(optimizer=optimizers.RMSprop(lr=0.001),\n",
        "model.compile(optimizer='adam',\n",
        "    loss='categorical_crossentropy',  # binay_crossentropy\n",
        "    metrics=['accuracy'])\n",
        "\n",
        "print(model.summary())\n",
        "\n",
        "\n",
        "history = model.fit(partial_x_train,\n",
        "              partial_y_train, epochs=100, batch_size=256, validation_data=(x_val, y_val))\n",
        "\n",
        "print(history)\n"
      ],
      "execution_count": 0,
      "outputs": [
        {
          "output_type": "stream",
          "text": [
            "Model: \"sequential_22\"\n",
            "_________________________________________________________________\n",
            "Layer (type)                 Output Shape              Param #   \n",
            "=================================================================\n",
            "dense_66 (Dense)             (None, 64)                8640      \n",
            "_________________________________________________________________\n",
            "dropout_46 (Dropout)         (None, 64)                0         \n",
            "_________________________________________________________________\n",
            "dense_67 (Dense)             (None, 32)                2080      \n",
            "_________________________________________________________________\n",
            "dropout_47 (Dropout)         (None, 32)                0         \n",
            "_________________________________________________________________\n",
            "dense_68 (Dense)             (None, 3)                 99        \n",
            "=================================================================\n",
            "Total params: 10,819\n",
            "Trainable params: 10,819\n",
            "Non-trainable params: 0\n",
            "_________________________________________________________________\n",
            "None\n",
            "Train on 26227 samples, validate on 3000 samples\n",
            "Epoch 1/100\n",
            "26227/26227 [==============================] - 3s 99us/step - loss: 1.1397 - acc: 0.3788 - val_loss: 1.1189 - val_acc: 0.3957\n",
            "Epoch 2/100\n",
            "26227/26227 [==============================] - 0s 14us/step - loss: 1.1076 - acc: 0.4146 - val_loss: 1.0985 - val_acc: 0.4253\n",
            "Epoch 3/100\n",
            "26227/26227 [==============================] - 0s 15us/step - loss: 1.0927 - acc: 0.4278 - val_loss: 1.0893 - val_acc: 0.4243\n",
            "Epoch 4/100\n",
            "26227/26227 [==============================] - 0s 15us/step - loss: 1.0827 - acc: 0.4389 - val_loss: 1.0821 - val_acc: 0.4403\n",
            "Epoch 5/100\n",
            "26227/26227 [==============================] - 0s 15us/step - loss: 1.0748 - acc: 0.4472 - val_loss: 1.0793 - val_acc: 0.4400\n",
            "Epoch 6/100\n",
            "26227/26227 [==============================] - 0s 14us/step - loss: 1.0684 - acc: 0.4530 - val_loss: 1.0750 - val_acc: 0.4470\n",
            "Epoch 7/100\n",
            "26227/26227 [==============================] - 0s 14us/step - loss: 1.0645 - acc: 0.4554 - val_loss: 1.0729 - val_acc: 0.4450\n",
            "Epoch 8/100\n",
            "26227/26227 [==============================] - 0s 14us/step - loss: 1.0579 - acc: 0.4615 - val_loss: 1.0698 - val_acc: 0.4467\n",
            "Epoch 9/100\n",
            "26227/26227 [==============================] - 0s 14us/step - loss: 1.0524 - acc: 0.4673 - val_loss: 1.0677 - val_acc: 0.4557\n",
            "Epoch 10/100\n",
            "26227/26227 [==============================] - 0s 14us/step - loss: 1.0473 - acc: 0.4758 - val_loss: 1.0655 - val_acc: 0.4577\n",
            "Epoch 11/100\n",
            "26227/26227 [==============================] - 0s 14us/step - loss: 1.0439 - acc: 0.4790 - val_loss: 1.0618 - val_acc: 0.4670\n",
            "Epoch 12/100\n",
            "26227/26227 [==============================] - 0s 14us/step - loss: 1.0409 - acc: 0.4803 - val_loss: 1.0625 - val_acc: 0.4593\n",
            "Epoch 13/100\n",
            "26227/26227 [==============================] - 0s 14us/step - loss: 1.0344 - acc: 0.4912 - val_loss: 1.0567 - val_acc: 0.4760\n",
            "Epoch 14/100\n",
            "26227/26227 [==============================] - 0s 14us/step - loss: 1.0298 - acc: 0.4960 - val_loss: 1.0519 - val_acc: 0.4830\n",
            "Epoch 15/100\n",
            "26227/26227 [==============================] - 0s 13us/step - loss: 1.0244 - acc: 0.5001 - val_loss: 1.0535 - val_acc: 0.4740\n",
            "Epoch 16/100\n",
            "26227/26227 [==============================] - 0s 14us/step - loss: 1.0217 - acc: 0.5020 - val_loss: 1.0520 - val_acc: 0.4773\n",
            "Epoch 17/100\n",
            "26227/26227 [==============================] - 0s 14us/step - loss: 1.0165 - acc: 0.5060 - val_loss: 1.0494 - val_acc: 0.4810\n",
            "Epoch 18/100\n",
            "26227/26227 [==============================] - 0s 14us/step - loss: 1.0126 - acc: 0.5116 - val_loss: 1.0482 - val_acc: 0.4850\n",
            "Epoch 19/100\n",
            "26227/26227 [==============================] - 0s 14us/step - loss: 1.0092 - acc: 0.5155 - val_loss: 1.0458 - val_acc: 0.4913\n",
            "Epoch 20/100\n",
            "26227/26227 [==============================] - 0s 14us/step - loss: 1.0069 - acc: 0.5174 - val_loss: 1.0429 - val_acc: 0.4967\n",
            "Epoch 21/100\n",
            "26227/26227 [==============================] - 0s 14us/step - loss: 1.0044 - acc: 0.5208 - val_loss: 1.0415 - val_acc: 0.4893\n",
            "Epoch 22/100\n",
            "26227/26227 [==============================] - 0s 14us/step - loss: 0.9973 - acc: 0.5245 - val_loss: 1.0386 - val_acc: 0.4930\n",
            "Epoch 23/100\n",
            "26227/26227 [==============================] - 0s 15us/step - loss: 0.9997 - acc: 0.5207 - val_loss: 1.0387 - val_acc: 0.4913\n",
            "Epoch 24/100\n",
            "26227/26227 [==============================] - 0s 14us/step - loss: 0.9954 - acc: 0.5262 - val_loss: 1.0391 - val_acc: 0.4967\n",
            "Epoch 25/100\n",
            "26227/26227 [==============================] - 0s 14us/step - loss: 0.9939 - acc: 0.5264 - val_loss: 1.0355 - val_acc: 0.4997\n",
            "Epoch 26/100\n",
            "26227/26227 [==============================] - 0s 15us/step - loss: 0.9920 - acc: 0.5296 - val_loss: 1.0319 - val_acc: 0.4960\n",
            "Epoch 27/100\n",
            "26227/26227 [==============================] - 0s 15us/step - loss: 0.9877 - acc: 0.5355 - val_loss: 1.0324 - val_acc: 0.4917\n",
            "Epoch 28/100\n",
            "26227/26227 [==============================] - 0s 15us/step - loss: 0.9849 - acc: 0.5347 - val_loss: 1.0319 - val_acc: 0.4900\n",
            "Epoch 29/100\n",
            "26227/26227 [==============================] - 0s 15us/step - loss: 0.9830 - acc: 0.5389 - val_loss: 1.0289 - val_acc: 0.5013\n",
            "Epoch 30/100\n",
            "26227/26227 [==============================] - 0s 14us/step - loss: 0.9826 - acc: 0.5416 - val_loss: 1.0268 - val_acc: 0.5023\n",
            "Epoch 31/100\n",
            "26227/26227 [==============================] - 0s 14us/step - loss: 0.9798 - acc: 0.5425 - val_loss: 1.0314 - val_acc: 0.4917\n",
            "Epoch 32/100\n",
            "26227/26227 [==============================] - 0s 14us/step - loss: 0.9772 - acc: 0.5426 - val_loss: 1.0225 - val_acc: 0.5047\n",
            "Epoch 33/100\n",
            "26227/26227 [==============================] - 0s 14us/step - loss: 0.9743 - acc: 0.5483 - val_loss: 1.0226 - val_acc: 0.5083\n",
            "Epoch 34/100\n",
            "26227/26227 [==============================] - 0s 13us/step - loss: 0.9701 - acc: 0.5502 - val_loss: 1.0251 - val_acc: 0.5057\n",
            "Epoch 35/100\n",
            "26227/26227 [==============================] - 0s 14us/step - loss: 0.9727 - acc: 0.5483 - val_loss: 1.0204 - val_acc: 0.5137\n",
            "Epoch 36/100\n",
            "26227/26227 [==============================] - 0s 14us/step - loss: 0.9689 - acc: 0.5470 - val_loss: 1.0252 - val_acc: 0.5087\n",
            "Epoch 37/100\n",
            "26227/26227 [==============================] - 0s 14us/step - loss: 0.9701 - acc: 0.5505 - val_loss: 1.0250 - val_acc: 0.5100\n",
            "Epoch 38/100\n",
            "26227/26227 [==============================] - 0s 14us/step - loss: 0.9680 - acc: 0.5512 - val_loss: 1.0225 - val_acc: 0.4930\n",
            "Epoch 39/100\n",
            "26227/26227 [==============================] - 0s 14us/step - loss: 0.9662 - acc: 0.5542 - val_loss: 1.0177 - val_acc: 0.5137\n",
            "Epoch 40/100\n",
            "26227/26227 [==============================] - 0s 14us/step - loss: 0.9629 - acc: 0.5562 - val_loss: 1.0183 - val_acc: 0.5050\n",
            "Epoch 41/100\n",
            "26227/26227 [==============================] - 0s 15us/step - loss: 0.9608 - acc: 0.5540 - val_loss: 1.0202 - val_acc: 0.4990\n",
            "Epoch 42/100\n",
            "26227/26227 [==============================] - 0s 14us/step - loss: 0.9634 - acc: 0.5556 - val_loss: 1.0173 - val_acc: 0.5097\n",
            "Epoch 43/100\n",
            "26227/26227 [==============================] - 0s 14us/step - loss: 0.9581 - acc: 0.5574 - val_loss: 1.0107 - val_acc: 0.5160\n",
            "Epoch 44/100\n",
            "26227/26227 [==============================] - 0s 14us/step - loss: 0.9563 - acc: 0.5605 - val_loss: 1.0159 - val_acc: 0.5167\n",
            "Epoch 45/100\n",
            "26227/26227 [==============================] - 0s 14us/step - loss: 0.9569 - acc: 0.5574 - val_loss: 1.0147 - val_acc: 0.5150\n",
            "Epoch 46/100\n",
            "26227/26227 [==============================] - 0s 14us/step - loss: 0.9570 - acc: 0.5606 - val_loss: 1.0121 - val_acc: 0.5127\n",
            "Epoch 47/100\n",
            "26227/26227 [==============================] - 0s 14us/step - loss: 0.9496 - acc: 0.5638 - val_loss: 1.0128 - val_acc: 0.5150\n",
            "Epoch 48/100\n",
            "26227/26227 [==============================] - 0s 14us/step - loss: 0.9490 - acc: 0.5669 - val_loss: 1.0128 - val_acc: 0.5203\n",
            "Epoch 49/100\n",
            "26227/26227 [==============================] - 0s 15us/step - loss: 0.9528 - acc: 0.5614 - val_loss: 1.0144 - val_acc: 0.5167\n",
            "Epoch 50/100\n",
            "26227/26227 [==============================] - 0s 14us/step - loss: 0.9516 - acc: 0.5646 - val_loss: 1.0138 - val_acc: 0.5053\n",
            "Epoch 51/100\n",
            "26227/26227 [==============================] - 0s 14us/step - loss: 0.9498 - acc: 0.5669 - val_loss: 1.0134 - val_acc: 0.5187\n",
            "Epoch 52/100\n",
            "26227/26227 [==============================] - 0s 13us/step - loss: 0.9493 - acc: 0.5675 - val_loss: 1.0086 - val_acc: 0.5203\n",
            "Epoch 53/100\n",
            "26227/26227 [==============================] - 0s 14us/step - loss: 0.9456 - acc: 0.5669 - val_loss: 1.0100 - val_acc: 0.5150\n",
            "Epoch 54/100\n",
            "26227/26227 [==============================] - 0s 14us/step - loss: 0.9422 - acc: 0.5712 - val_loss: 1.0069 - val_acc: 0.5233\n",
            "Epoch 55/100\n",
            "26227/26227 [==============================] - 0s 14us/step - loss: 0.9420 - acc: 0.5693 - val_loss: 1.0058 - val_acc: 0.5203\n",
            "Epoch 56/100\n",
            "26227/26227 [==============================] - 0s 14us/step - loss: 0.9449 - acc: 0.5677 - val_loss: 1.0079 - val_acc: 0.5253\n",
            "Epoch 57/100\n",
            "26227/26227 [==============================] - 0s 14us/step - loss: 0.9444 - acc: 0.5691 - val_loss: 1.0063 - val_acc: 0.5250\n",
            "Epoch 58/100\n",
            "26227/26227 [==============================] - 0s 15us/step - loss: 0.9416 - acc: 0.5691 - val_loss: 1.0048 - val_acc: 0.5237\n",
            "Epoch 59/100\n",
            "26227/26227 [==============================] - 0s 14us/step - loss: 0.9419 - acc: 0.5720 - val_loss: 1.0065 - val_acc: 0.5190\n",
            "Epoch 60/100\n",
            "26227/26227 [==============================] - 0s 14us/step - loss: 0.9373 - acc: 0.5746 - val_loss: 1.0081 - val_acc: 0.5190\n",
            "Epoch 61/100\n",
            "26227/26227 [==============================] - 0s 14us/step - loss: 0.9370 - acc: 0.5743 - val_loss: 1.0083 - val_acc: 0.5170\n",
            "Epoch 62/100\n",
            "26227/26227 [==============================] - 0s 14us/step - loss: 0.9380 - acc: 0.5741 - val_loss: 1.0028 - val_acc: 0.5197\n",
            "Epoch 63/100\n",
            "26227/26227 [==============================] - 0s 14us/step - loss: 0.9363 - acc: 0.5749 - val_loss: 0.9978 - val_acc: 0.5253\n",
            "Epoch 64/100\n",
            "26227/26227 [==============================] - 0s 14us/step - loss: 0.9380 - acc: 0.5738 - val_loss: 1.0075 - val_acc: 0.5180\n",
            "Epoch 65/100\n",
            "26227/26227 [==============================] - 0s 14us/step - loss: 0.9363 - acc: 0.5738 - val_loss: 1.0008 - val_acc: 0.5267\n",
            "Epoch 66/100\n",
            "26227/26227 [==============================] - 0s 14us/step - loss: 0.9314 - acc: 0.5752 - val_loss: 1.0049 - val_acc: 0.5300\n",
            "Epoch 67/100\n",
            "26227/26227 [==============================] - 0s 14us/step - loss: 0.9303 - acc: 0.5780 - val_loss: 0.9981 - val_acc: 0.5273\n",
            "Epoch 68/100\n",
            "26227/26227 [==============================] - 0s 14us/step - loss: 0.9314 - acc: 0.5799 - val_loss: 1.0027 - val_acc: 0.5183\n",
            "Epoch 69/100\n",
            "26227/26227 [==============================] - 0s 15us/step - loss: 0.9308 - acc: 0.5763 - val_loss: 1.0015 - val_acc: 0.5310\n",
            "Epoch 70/100\n",
            "26227/26227 [==============================] - 0s 14us/step - loss: 0.9314 - acc: 0.5760 - val_loss: 0.9964 - val_acc: 0.5300\n",
            "Epoch 71/100\n",
            "26227/26227 [==============================] - 0s 14us/step - loss: 0.9320 - acc: 0.5776 - val_loss: 1.0005 - val_acc: 0.5370\n",
            "Epoch 72/100\n",
            "26227/26227 [==============================] - 0s 14us/step - loss: 0.9257 - acc: 0.5814 - val_loss: 0.9987 - val_acc: 0.5283\n",
            "Epoch 73/100\n",
            "26227/26227 [==============================] - 0s 15us/step - loss: 0.9305 - acc: 0.5777 - val_loss: 0.9966 - val_acc: 0.5327\n",
            "Epoch 74/100\n",
            "26227/26227 [==============================] - 0s 15us/step - loss: 0.9281 - acc: 0.5794 - val_loss: 0.9996 - val_acc: 0.5317\n",
            "Epoch 75/100\n",
            "26227/26227 [==============================] - 0s 14us/step - loss: 0.9258 - acc: 0.5823 - val_loss: 1.0016 - val_acc: 0.5267\n",
            "Epoch 76/100\n",
            "26227/26227 [==============================] - 0s 15us/step - loss: 0.9249 - acc: 0.5847 - val_loss: 0.9934 - val_acc: 0.5423\n",
            "Epoch 77/100\n",
            "26227/26227 [==============================] - 0s 14us/step - loss: 0.9241 - acc: 0.5847 - val_loss: 0.9943 - val_acc: 0.5367\n",
            "Epoch 78/100\n",
            "26227/26227 [==============================] - 0s 14us/step - loss: 0.9227 - acc: 0.5835 - val_loss: 0.9980 - val_acc: 0.5313\n",
            "Epoch 79/100\n",
            "26227/26227 [==============================] - 0s 14us/step - loss: 0.9224 - acc: 0.5828 - val_loss: 0.9930 - val_acc: 0.5287\n",
            "Epoch 80/100\n",
            "26227/26227 [==============================] - 0s 15us/step - loss: 0.9230 - acc: 0.5845 - val_loss: 0.9958 - val_acc: 0.5380\n",
            "Epoch 81/100\n",
            "26227/26227 [==============================] - 0s 15us/step - loss: 0.9232 - acc: 0.5870 - val_loss: 0.9985 - val_acc: 0.5290\n",
            "Epoch 82/100\n",
            "26227/26227 [==============================] - 0s 14us/step - loss: 0.9210 - acc: 0.5826 - val_loss: 0.9926 - val_acc: 0.5350\n",
            "Epoch 83/100\n",
            "26227/26227 [==============================] - 0s 14us/step - loss: 0.9188 - acc: 0.5869 - val_loss: 0.9893 - val_acc: 0.5400\n",
            "Epoch 84/100\n",
            "26227/26227 [==============================] - 0s 14us/step - loss: 0.9188 - acc: 0.5835 - val_loss: 0.9892 - val_acc: 0.5437\n",
            "Epoch 85/100\n",
            "26227/26227 [==============================] - 0s 14us/step - loss: 0.9206 - acc: 0.5846 - val_loss: 0.9989 - val_acc: 0.5230\n",
            "Epoch 86/100\n",
            "26227/26227 [==============================] - 0s 14us/step - loss: 0.9211 - acc: 0.5855 - val_loss: 1.0010 - val_acc: 0.5283\n",
            "Epoch 87/100\n",
            "26227/26227 [==============================] - 0s 14us/step - loss: 0.9177 - acc: 0.5863 - val_loss: 0.9900 - val_acc: 0.5403\n",
            "Epoch 88/100\n",
            "26227/26227 [==============================] - 0s 15us/step - loss: 0.9146 - acc: 0.5897 - val_loss: 0.9979 - val_acc: 0.5230\n",
            "Epoch 89/100\n",
            "26227/26227 [==============================] - 0s 15us/step - loss: 0.9154 - acc: 0.5912 - val_loss: 0.9931 - val_acc: 0.5307\n",
            "Epoch 90/100\n",
            "26227/26227 [==============================] - 0s 14us/step - loss: 0.9143 - acc: 0.5902 - val_loss: 0.9986 - val_acc: 0.5287\n",
            "Epoch 91/100\n",
            "26227/26227 [==============================] - 0s 14us/step - loss: 0.9149 - acc: 0.5915 - val_loss: 0.9911 - val_acc: 0.5370\n",
            "Epoch 92/100\n",
            "26227/26227 [==============================] - 0s 14us/step - loss: 0.9152 - acc: 0.5928 - val_loss: 0.9934 - val_acc: 0.5397\n",
            "Epoch 93/100\n",
            "26227/26227 [==============================] - 0s 14us/step - loss: 0.9138 - acc: 0.5913 - val_loss: 0.9902 - val_acc: 0.5360\n",
            "Epoch 94/100\n",
            "26227/26227 [==============================] - 0s 14us/step - loss: 0.9133 - acc: 0.5910 - val_loss: 0.9902 - val_acc: 0.5407\n",
            "Epoch 95/100\n",
            "26227/26227 [==============================] - 0s 14us/step - loss: 0.9121 - acc: 0.5921 - val_loss: 0.9915 - val_acc: 0.5327\n",
            "Epoch 96/100\n",
            "26227/26227 [==============================] - 0s 14us/step - loss: 0.9149 - acc: 0.5935 - val_loss: 0.9936 - val_acc: 0.5347\n",
            "Epoch 97/100\n",
            "26227/26227 [==============================] - 0s 14us/step - loss: 0.9123 - acc: 0.5925 - val_loss: 0.9828 - val_acc: 0.5483\n",
            "Epoch 98/100\n",
            "26227/26227 [==============================] - 0s 15us/step - loss: 0.9112 - acc: 0.5906 - val_loss: 0.9835 - val_acc: 0.5487\n",
            "Epoch 99/100\n",
            "26227/26227 [==============================] - 0s 14us/step - loss: 0.9109 - acc: 0.5895 - val_loss: 0.9899 - val_acc: 0.5400\n",
            "Epoch 100/100\n",
            "26227/26227 [==============================] - 0s 14us/step - loss: 0.9108 - acc: 0.5935 - val_loss: 0.9871 - val_acc: 0.5463\n",
            "<keras.callbacks.History object at 0x7f5c2a937b70>\n"
          ],
          "name": "stdout"
        }
      ]
    },
    {
      "cell_type": "code",
      "metadata": {
        "id": "JkeXEh8WxI_0",
        "colab_type": "code",
        "outputId": "7acf8081-3e63-4d48-92b8-e506d80cc697",
        "colab": {
          "base_uri": "https://localhost:8080/",
          "height": 295
        }
      },
      "source": [
        "import matplotlib.pyplot as plt\n",
        "%matplotlib inline\n",
        "\n",
        "history_dict = history.history\n",
        "loss_values = history_dict['loss']\n",
        "val_loss_values = history_dict['val_loss']\n",
        "acc = history_dict['acc']\n",
        "epochs = range(1, len(acc) + 1)\n",
        "plt.plot(epochs, loss_values, 'bo', label='Training loss')\n",
        "plt.plot(epochs, val_loss_values, 'b', label='Validation loss')\n",
        "plt.title('Training and validation loss')\n",
        "plt.xlabel('Epochs')\n",
        "plt.ylabel('Loss')\n",
        "plt.legend()\n",
        "plt.show()"
      ],
      "execution_count": 0,
      "outputs": [
        {
          "output_type": "display_data",
          "data": {
            "image/png": "[encoded data removed]",
            "text/plain": [
              "<Figure size 432x288 with 1 Axes>"
            ]
          },
          "metadata": {
            "tags": []
          }
        }
      ]
    },
    {
      "cell_type": "code",
      "metadata": {
        "id": "hZriSzl1xOLX",
        "colab_type": "code",
        "outputId": "557fb181-f1d1-4359-fd7e-a4f65ad8a863",
        "colab": {
          "base_uri": "https://localhost:8080/",
          "height": 802
        }
      },
      "source": [
        "pred_y = model.predict(test_X)\n",
        "\n",
        "apred_y = np.asarray(pred_y).round()\n",
        "\n",
        "apred_y= np.argmax(apred_y, axis=1)\n",
        "print(apred_y)\n",
        "\n",
        "print(test_labels)\n",
        "test_labels1 = np.argmax(test_labels,axis=1) # comment this line for binary\n",
        "\n",
        "#Accuracy of the predicted values\n",
        "from sklearn.metrics import classification_report\n",
        "print(classification_report(test_labels1, apred_y)) # Precision , Recall, F1-Score & Support\n",
        "\n",
        "from sklearn.metrics import confusion_matrix \n",
        "cm = confusion_matrix(test_labels1, apred_y)\n",
        "#print(cm)\n",
        "# visualize the confusion matrix in a heat map\n",
        "#df_cm = pd.DataFrame(cm)\n",
        "#import seaborn as sns\n",
        "#heatmap = sns.heatmap(df_cm, annot=True, fmt=\"d\")\n",
        "\n",
        "\n",
        "print(pred_y)\n",
        "print(np.shape(test_labels))\n",
        "\n",
        "from sklearn.metrics import f1_score, accuracy_score\n",
        "test_acc = accuracy_score(test_labels1, apred_y)\n",
        "test_f1_w = f1_score(test_labels1, apred_y, average='weighted')\n",
        "test_f1_m = f1_score(test_labels1, apred_y, average='macro')\n",
        "\n",
        "print(\"Test Accuracy = \" + str(test_acc))\n",
        "print(\"Test Macro-F1 = \" + str(test_f1_m))\n",
        "print(\"Test Weighted-F1 = \" + str(test_f1_w))\n",
        "\n",
        "\n",
        "from sklearn.metrics import confusion_matrix \n",
        "cm = confusion_matrix(test_labels1, apred_y)\n",
        "print(cm)\n",
        "# visualize the confusion matrix in a heat map\n",
        "df_cm = pd.DataFrame(cm)\n",
        "import seaborn as sns\n",
        "heatmap = sns.heatmap(df_cm, annot=True, fmt=\"d\")"
      ],
      "execution_count": 0,
      "outputs": [
        {
          "output_type": "stream",
          "text": [
            "[1 2 2 ... 1 0 1]\n",
            "[[0 1 0]\n",
            " [1 0 0]\n",
            " [0 0 1]\n",
            " ...\n",
            " [1 0 0]\n",
            " [1 0 0]\n",
            " [1 0 0]]\n",
            "              precision    recall  f1-score   support\n",
            "\n",
            "           0       0.43      0.71      0.53      2484\n",
            "           1       0.61      0.30      0.40      2367\n",
            "           2       0.66      0.55      0.60      2456\n",
            "\n",
            "    accuracy                           0.52      7307\n",
            "   macro avg       0.57      0.52      0.51      7307\n",
            "weighted avg       0.56      0.52      0.51      7307\n",
            "\n",
            "[[0.28079274 0.61754614 0.10166106]\n",
            " [0.2314058  0.20779979 0.5607944 ]\n",
            " [0.05268343 0.20259088 0.7447257 ]\n",
            " ...\n",
            " [0.20836298 0.5457505  0.24588653]\n",
            " [0.73102486 0.17863299 0.09034225]\n",
            " [0.23216686 0.68136805 0.0864651 ]]\n",
            "(7307, 3)\n",
            "Test Accuracy = 0.5221020938825783\n",
            "Test Macro-F1 = 0.5114482791555024\n",
            "Test Weighted-F1 = 0.512892572844273\n",
            "[[1762  349  373]\n",
            " [1343  707  317]\n",
            " [1000  110 1346]]\n"
          ],
          "name": "stdout"
        },
        {
          "output_type": "display_data",
          "data": {
            "image/png": "[encoded data removed]",
            "text/plain": [
              "<Figure size 432x288 with 2 Axes>"
            ]
          },
          "metadata": {
            "tags": []
          }
        }
      ]
    },
    {
      "cell_type": "code",
      "metadata": {
        "id": "GAubH3mAg2WH",
        "colab_type": "code",
        "outputId": "07d07518-22a3-4e4b-a290-20e57605f80a",
        "colab": {
          "base_uri": "https://localhost:8080/",
          "height": 168
        }
      },
      "source": [
        "import xgboost\n",
        "from sklearn.model_selection import GridSearchCV\n",
        "\n",
        "from sklearn.model_selection import train_test_split\n",
        "from sklearn.preprocessing import LabelEncoder\n",
        "\n",
        "#train_X, test_X, train_labels, test_labels\n",
        "print(np.shape(train_X), np.shape(test_X), np.shape(train_labels) , np.shape(test_labels))\n",
        "print(test_labels)\n",
        "train_labelsT=np.argmax(train_labels, axis=1)\n",
        "test_labelsT = np.argmax(test_labels, axis=1)\n",
        "print(np.shape(test_labelsT), np.shape(train_labelsT))\n",
        "\n",
        "search=True\n",
        "param_grid = {\n",
        "    'learning_rate': [0.01,0.05,0.08,0.2,0.8 ],\n",
        "    'max_depth': [10,20,30],\n",
        "    'subsample': [0.01,0.05,0.5,0.8],\n",
        "    'colsample_bytree': [0.1, 0.5, 1.0],\n",
        "    'min_child_weight': [1,3,5]\n",
        "}\n",
        "\n",
        "#best params after grid_search\n",
        "#{'colsample_bytree': 0.5, 'learning_rate': 0.05, 'max_depth': 10, 'min_child_weight': 1, 'subsample': 0.8}\n",
        "            \n",
        "if search==False:\n",
        "    grid_search = GridSearchCV(estimator = xgboost.XGBClassifier(), param_grid = param_grid, \n",
        "                          scoring='roc_auc',cv = 3, n_jobs = -1, verbose = 2)\n",
        "\n",
        "    grid_search.fit(train_X, train_labelsT)\n",
        "    print(grid_search.best_params_)\n",
        "    cls = grid_search.best_estimator_\n",
        "else:\n",
        "    cls = xgboost.XGBClassifier(colsample_bytree=0.5, learning_rate=0.05, max_depth=10, min_child_weight=1, subsample=0.8)\n",
        "    cls.fit(train_X, train_labelsT)\n",
        "\n"
      ],
      "execution_count": 0,
      "outputs": [
        {
          "output_type": "stream",
          "text": [
            "(29227, 134) (7307, 134) (29227, 3) (7307, 3)\n",
            "[[0 1 0]\n",
            " [1 0 0]\n",
            " [0 0 1]\n",
            " ...\n",
            " [1 0 0]\n",
            " [1 0 0]\n",
            " [1 0 0]]\n",
            "(7307,) (29227,)\n"
          ],
          "name": "stdout"
        }
      ]
    },
    {
      "cell_type": "code",
      "metadata": {
        "id": "TS6GKDECa1SM",
        "colab_type": "code",
        "outputId": "394439fc-5e1d-41e8-e5c6-2d7cc9e0de70",
        "colab": {
          "base_uri": "https://localhost:8080/",
          "height": 382
        }
      },
      "source": [
        "pred_yT =  cls.predict(test_X)\n",
        "print(np.shape(pred_yT), np.shape(test_labelsT))\n",
        "\n",
        "from sklearn.metrics import f1_score, accuracy_score\n",
        "\n",
        "test_acc = accuracy_score(test_labelsT, pred_yT)\n",
        "test_f1_w = f1_score(test_labelsT, pred_yT, average='weighted')\n",
        "test_f1_m = f1_score(test_labelsT, pred_yT, average='macro')\n",
        "\n",
        "print(\"Test Accuracy = \" + str(test_acc))\n",
        "print(\"Test Macro-F1 = \" + str(test_f1_m))\n",
        "print(\"Test Weighted-F1 = \" + str(test_f1_w))\n",
        "\n",
        "\n",
        "from sklearn.metrics import confusion_matrix \n",
        "cm = confusion_matrix(test_labelsT, pred_yT)\n",
        "print(cm)\n",
        "# visualize the confusion matrix in a heat map\n",
        "df_cm = pd.DataFrame(cm)\n",
        "import seaborn as sns\n",
        "heatmap = sns.heatmap(df_cm, annot=True, fmt=\"d\")"
      ],
      "execution_count": 0,
      "outputs": [
        {
          "output_type": "stream",
          "text": [
            "(7307,) (7307,)\n",
            "Test Accuracy = 0.6173532229369099\n",
            "Test Macro-F1 = 0.6163918632454056\n",
            "Test Weighted-F1 = 0.6164883029484949\n",
            "[[1355  668  461]\n",
            " [ 560 1443  364]\n",
            " [ 360  383 1713]]\n"
          ],
          "name": "stdout"
        },
        {
          "output_type": "display_data",
          "data": {
            "image/png": "[encoded data removed]",
            "text/plain": [
              "<Figure size 432x288 with 2 Axes>"
            ]
          },
          "metadata": {
            "tags": []
          }
        }
      ]
    }
  ]
}