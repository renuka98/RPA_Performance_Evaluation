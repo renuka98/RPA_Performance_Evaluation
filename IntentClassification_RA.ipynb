{
 "cells": [
  {
   "cell_type": "markdown",
   "metadata": {},
   "source": [
    "## Simulating an IA Chatbot classifying intents of user utterances\n",
    "\n",
    "A chatbot is simulated. Recent deployments of chatbot are looking at “Chatbots helping Agents, Agents Helping Chatbots.”  This architecture requires a seamless hand-off between agents and humans - CoChat: Enabling bot and human collaboration for task completion. Proc. AAAI 18, 5301 5308.\n",
    "\n",
    "We use a widely used data set (ATIS) to simulate the scenario of identify the human-automation interaction - Characterit\n"
   ]
  },
  {
   "cell_type": "code",
   "execution_count": 1,
   "metadata": {},
   "outputs": [],
   "source": [
    "import pandas as pd\n",
    "from sklearn.feature_extraction.text import CountVectorizer,TfidfVectorizer\n",
    "from sklearn.base import TransformerMixin\n",
    "from sklearn.pipeline import Pipeline\n",
    "from sklearn.preprocessing import OneHotEncoder\n",
    "import matplotlib.pyplot as plt"
   ]
  },
  {
   "cell_type": "markdown",
   "metadata": {},
   "source": [
    "### ATIS dataset\n",
    "The ATIS data has the user entered text and the intent information"
   ]
  },
  {
   "cell_type": "code",
   "execution_count": 2,
   "metadata": {},
   "outputs": [],
   "source": [
    "import json\n",
    "\n",
    "\n",
    "# read file\n",
    "with open('resources/MSDialog-Intent.json', 'r') as myfile:\n",
    "    data=myfile.read()\n",
    "\n",
    "# parse file\n",
    "obj = json.loads(data)\n",
    "all_dialogs = obj['rasa_nlu_data']['common_examples']\n",
    "sentences=[]\n",
    "intents=[]\n",
    "for obj in all_dialogs:\n",
    "    sentences.append(obj['text'])\n",
    "    intents.append(obj['intent'])\n",
    "\n",
    "data_all = pd.DataFrame()\n",
    "data_all['Sentence']  = sentences\n",
    "data_all['Intent']  = intents\n",
    "    "
   ]
  },
  {
   "cell_type": "code",
   "execution_count": 3,
   "metadata": {},
   "outputs": [
    {
     "data": {
      "text/plain": [
       "flight                        3666\n",
       "airfare                        423\n",
       "ground_service                 255\n",
       "airline                        157\n",
       "abbreviation                   147\n",
       "aircraft                        81\n",
       "flight_time                     54\n",
       "quantity                        51\n",
       "flight+airfare                  21\n",
       "distance                        20\n",
       "airport                         20\n",
       "city                            19\n",
       "ground_fare                     18\n",
       "capacity                        16\n",
       "flight_no                       12\n",
       "meal                             6\n",
       "restriction                      6\n",
       "airline+flight_no                2\n",
       "cheapest                         1\n",
       "ground_service+ground_fare       1\n",
       "airfare+flight_time              1\n",
       "aircraft+flight+flight_no        1\n",
       "Name: Intent, dtype: int64"
      ]
     },
     "execution_count": 3,
     "metadata": {},
     "output_type": "execute_result"
    }
   ],
   "source": [
    "data_all.head(5)\n",
    "data_all.Intent.value_counts()"
   ]
  },
  {
   "cell_type": "markdown",
   "metadata": {},
   "source": [
    "### Use NLP using spacy package\n",
    "\n",
    "Create a tokenizer that takes and string and generates the tokens\n"
   ]
  },
  {
   "cell_type": "code",
   "execution_count": 6,
   "metadata": {
    "scrolled": true
   },
   "outputs": [],
   "source": [
    "import string\n",
    "import spacy\n",
    "from spacy.lang.en.stop_words import STOP_WORDS\n",
    "from spacy.lang.en import English\n",
    "\n",
    "# Create our list of stopwords\n",
    "nlp = spacy.load('C:/conda/anaconda3/lib/site-packages/en_core_web_sm/en_core_web_sm-2.2.5')\n",
    "stop_words = spacy.lang.en.stop_words.STOP_WORDS\n",
    "punctuations = string.punctuation\n",
    "\n",
    "#english parser\n",
    "parser = English()\n",
    "\n",
    "#tokenize the sentence\n",
    "def tokenize(sentence):\n",
    "   #get tokens\n",
    "    tokens = parser(sentence)\n",
    "\n",
    "    #convert to lower case and lemmatize the words\n",
    "    tokens = [ word.lemma_.lower().strip() for word in tokens ]\n",
    "\n",
    "    # remove stop words\n",
    "    tokens = [ word for word in tokens if word not in stop_words and word not in punctuations ]\n",
    "\n",
    "    # return list of tokens\n",
    "    return tokens"
   ]
  },
  {
   "cell_type": "markdown",
   "metadata": {},
   "source": [
    "### Clean the text \n",
    "Remove spaces, convert to lower case"
   ]
  },
  {
   "cell_type": "code",
   "execution_count": 8,
   "metadata": {},
   "outputs": [],
   "source": [
    "# Transform the input text\n",
    "class TextXform(TransformerMixin):\n",
    "    def transform(self, X, **transform_params):\n",
    "        # Cleaning Text\n",
    "        return [clean_text(text) for text in X]\n",
    "\n",
    "    def fit(self, X, y=None, **fit_params):\n",
    "        return self\n",
    "\n",
    "    def get_params(self, deep=True):\n",
    "        return {}\n",
    "\n",
    "# Basic function to clean the text\n",
    "def clean_text(text):\n",
    "    # Removing spaces and converting text into lowercase\n",
    "    return text.strip().lower()"
   ]
  },
  {
   "cell_type": "markdown",
   "metadata": {},
   "source": [
    "### Transform the text into a vector\n",
    "1. Clean the text\n",
    "2. Tokenize the text\n",
    "3. Generate a vector space model - vector with word frequency\n",
    "\n",
    "Split the text into train and test data for training and cross validation"
   ]
  },
  {
   "cell_type": "code",
   "execution_count": 9,
   "metadata": {},
   "outputs": [],
   "source": [
    "bow_vector = CountVectorizer(tokenizer = tokenize, ngram_range=(1,1))\n",
    "from sklearn.model_selection import train_test_split\n",
    "\n",
    "X = data_all[\"Sentence\"] # the features we want to analyze\n",
    "ylabels = data_all[\"Intent\"] # the labels, or answers, we want to test against\n",
    "\n",
    "X_train, X_test, y_train, y_test = train_test_split(X, ylabels, test_size=0.3)\n"
   ]
  },
  {
   "cell_type": "markdown",
   "metadata": {},
   "source": [
    "### Train the classifier\n",
    "Use logistic regression. Any classifier could be used. \n",
    "In this case, given that we are using bow, the performance of most classifiers will be similar\n",
    "Our objective is not to train the best classifier but to show case the identification of levels of automation"
   ]
  },
  {
   "cell_type": "code",
   "execution_count": 11,
   "metadata": {},
   "outputs": [
    {
     "name": "stderr",
     "output_type": "stream",
     "text": [
      "C:\\conda\\Anaconda3\\lib\\site-packages\\sklearn\\linear_model\\logistic.py:469: FutureWarning: Default multi_class will be changed to 'auto' in 0.22. Specify the multi_class option to silence this warning.\n",
      "  \"this warning.\", FutureWarning)\n"
     ]
    },
    {
     "data": {
      "text/plain": [
       "Pipeline(memory=None,\n",
       "         steps=[('cleaner', <__main__.TextXform object at 0x000001A1B37DBE88>),\n",
       "                ('vectorizer',\n",
       "                 CountVectorizer(analyzer='word', binary=False,\n",
       "                                 decode_error='strict',\n",
       "                                 dtype=<class 'numpy.int64'>, encoding='utf-8',\n",
       "                                 input='content', lowercase=True, max_df=1.0,\n",
       "                                 max_features=None, min_df=1,\n",
       "                                 ngram_range=(1, 1), preprocessor=None,\n",
       "                                 stop_words=None, strip_accents=None,\n",
       "                                 token_pattern='(?u)\\\\b\\\\w\\\\w+\\\\b',\n",
       "                                 tokenizer=<function tokenize at 0x000001A1AC66DAF8>,\n",
       "                                 vocabulary=None)),\n",
       "                ('classifier',\n",
       "                 LogisticRegression(C=1.0, class_weight=None, dual=False,\n",
       "                                    fit_intercept=True, intercept_scaling=1,\n",
       "                                    l1_ratio=None, max_iter=100,\n",
       "                                    multi_class='warn', n_jobs=None,\n",
       "                                    penalty='l2', random_state=None,\n",
       "                                    solver='lbfgs', tol=0.0001, verbose=0,\n",
       "                                    warm_start=False))],\n",
       "         verbose=False)"
      ]
     },
     "execution_count": 11,
     "metadata": {},
     "output_type": "execute_result"
    }
   ],
   "source": [
    "# Logistic Regression Classifier\n",
    "from sklearn.linear_model import LogisticRegression\n",
    "classifier = LogisticRegression(solver='lbfgs')\n",
    "\n",
    "# Create pipeline using Bag of Words\n",
    "pipe = Pipeline([(\"cleaner\", TextXform()),\n",
    "                 ('vectorizer', bow_vector),\n",
    "                 ('classifier', classifier)])\n",
    "\n",
    "# model generation\n",
    "pipe.fit(X_train,y_train)\n",
    "    "
   ]
  },
  {
   "cell_type": "markdown",
   "metadata": {},
   "source": [
    "### Use the cross-validation test data\n",
    "Run it through the same pipeline - cleaning, tokenizing, generating vectors and predicting \n",
    "\n",
    "\n",
    "Get the confusion matrix"
   ]
  },
  {
   "cell_type": "code",
   "execution_count": 16,
   "metadata": {},
   "outputs": [],
   "source": [
    "from sklearn.metrics import classification_report\n",
    "from sklearn.metrics import accuracy_score\n",
    "\n",
    "from sklearn import metrics\n",
    "# Predicting with a test dataset\n",
    "predicted = pipe.predict(X_test)\n",
    "\n",
    "# Model Accuracy\n",
    "\n",
    "\n",
    "from sklearn.metrics import classification_report\n",
    "report = classification_report(y_test, predicted, output_dict=True)\n",
    "#print(report)\n",
    "f1_dict = dict()\n",
    "for key,val in report.items():\n",
    "    if isinstance(val,dict):\n",
    "        f1_dict[key] = val['f1-score']\n",
    "        \n",
    "\n",
    "        \n",
    "\n"
   ]
  },
  {
   "cell_type": "markdown",
   "metadata": {},
   "source": [
    "### ATIS Test Data - Unseen data to evaluate LOA\n",
    "Get the test data\n",
    "\n",
    "Predict the intent\n",
    "\n",
    "Identify the performance of the intent classifier for each intent using the confusion matrix\n"
   ]
  },
  {
   "cell_type": "code",
   "execution_count": 17,
   "metadata": {},
   "outputs": [],
   "source": [
    "# get the distribution of the test data and accuracy\n",
    "#df = pd.DataFrame('pred':predicted)\n",
    "\n",
    "with open('resources/MSDialog-Intent_test.json', 'r') as myfile:\n",
    "    data=myfile.read()\n",
    "\n",
    "# parse file\n",
    "obj = json.loads(data)\n",
    "all_dialogs = obj['rasa_nlu_data']['common_examples']\n",
    "sentences=[]\n",
    "intents=[]\n",
    "for obj in all_dialogs:\n",
    "    sentences.append(obj['text'])\n",
    "    intents.append(obj['intent'])\n",
    "\n",
    "data_test = pd.DataFrame()\n",
    "data_test['Sentence']  = sentences\n",
    "data_test['Intent']  = intents\n",
    "\n",
    "X_unseen = data_test[\"Sentence\"] # the features we want to analyze\n",
    "y_unseen = data_test[\"Intent\"] # the labels, or answers, we want to test against\n",
    "\n",
    "pred = pipe.predict(X_unseen)\n",
    "\n",
    "\n"
   ]
  },
  {
   "cell_type": "markdown",
   "metadata": {},
   "source": [
    "### Print LOA Histogram"
   ]
  },
  {
   "cell_type": "code",
   "execution_count": 18,
   "metadata": {},
   "outputs": [
    {
     "name": "stdout",
     "output_type": "stream",
     "text": [
      "    predicted     score              LOA\n",
      "0      flight  0.956522  Full Automation\n",
      "1      flight  0.956522  Full Automation\n",
      "2      flight  0.956522  Full Automation\n",
      "3      flight  0.956522  Full Automation\n",
      "4      flight  0.956522  Full Automation\n",
      "..        ...       ...              ...\n",
      "888    flight  0.956522  Full Automation\n",
      "889    flight  0.956522  Full Automation\n",
      "890    flight  0.956522  Full Automation\n",
      "891    flight  0.956522  Full Automation\n",
      "892    flight  0.956522  Full Automation\n",
      "\n",
      "[893 rows x 3 columns]\n"
     ]
    },
    {
     "data": {
      "image/png": "[encoded data removed]",
      "text/plain": [
       "<Figure size 432x288 with 1 Axes>"
      ]
     },
     "metadata": {},
     "output_type": "display_data"
    }
   ],
   "source": [
    "df = pd.DataFrame({'predicted': pred})\n",
    "df['score']= df['predicted'].apply(lambda x: f1_dict[x])\n",
    "df['LOA']=df['score'].apply(lambda x: 'Full Automation' if x >0.95 else 'Decision Support')\n",
    "print(df)\n",
    "\n",
    "import seaborn as sns\n",
    "sns.set(style=\"whitegrid\")\n",
    "ax = sns.countplot(x=\"LOA\",data=df,  palette=\"Blues_d\")"
   ]
  },
  {
   "cell_type": "code",
   "execution_count": null,
   "metadata": {},
   "outputs": [],
   "source": []
  }
 ],
 "metadata": {
  "kernelspec": {
   "display_name": "Python 3",
   "language": "python",
   "name": "python3"
  },
  "language_info": {
   "codemirror_mode": {
    "name": "ipython",
    "version": 3
   },
   "file_extension": ".py",
   "mimetype": "text/x-python",
   "name": "python",
   "nbconvert_exporter": "python",
   "pygments_lexer": "ipython3",
   "version": "3.7.4"
  }
 },
 "nbformat": 4,
 "nbformat_minor": 2
}
