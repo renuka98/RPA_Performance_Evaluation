{
 "cells": [
  {
   "cell_type": "markdown",
   "metadata": {},
   "source": [
    "## Simulating an IA Chatbot classifying intents of user utterances\n",
    "An IA can incrementally gain experience and improve performance much like a human agent. In this process of a call center answering user questions, the topic of the question can be determined by an **IA** based on the user click stream data.\n",
    "\n",
    "The *resource characteristics* of the IA is the **performance** that improves with time as the agent *learns* with more information from data\n",
    "\n",
    "The **experience** of the agent further increases\n"
   ]
  },
  {
   "cell_type": "code",
   "execution_count": 5,
   "metadata": {},
   "outputs": [],
   "source": [
    "import pandas as pd\n",
    "from sklearn.feature_extraction.text import CountVectorizer,TfidfVectorizer\n",
    "from sklearn.base import TransformerMixin\n",
    "from sklearn.pipeline import Pipeline\n",
    "from sklearn.preprocessing import OneHotEncoder\n",
    "import matplotlib.pyplot as plt"
   ]
  },
  {
   "cell_type": "code",
   "execution_count": 48,
   "metadata": {},
   "outputs": [],
   "source": [
    "import json\n",
    "\n",
    "\n",
    "# read file\n",
    "with open('resources/MSDialog-Intent.json', 'r') as myfile:\n",
    "    data=myfile.read()\n",
    "\n",
    "# parse file\n",
    "obj = json.loads(data)\n",
    "all_dialogs = obj['rasa_nlu_data']['common_examples']\n",
    "sentences=[]\n",
    "intents=[]\n",
    "for obj in all_dialogs:\n",
    "    sentences.append(obj['text'])\n",
    "    intents.append(obj['intent'])\n",
    "\n",
    "data_all = pd.DataFrame()\n",
    "data_all['Sentence']  = sentences\n",
    "data_all['Intent']  = intents\n",
    "    "
   ]
  },
  {
   "cell_type": "code",
   "execution_count": 49,
   "metadata": {},
   "outputs": [
    {
     "data": {
      "text/plain": [
       "flight                        3666\n",
       "airfare                        423\n",
       "ground_service                 255\n",
       "airline                        157\n",
       "abbreviation                   147\n",
       "aircraft                        81\n",
       "flight_time                     54\n",
       "quantity                        51\n",
       "flight+airfare                  21\n",
       "distance                        20\n",
       "airport                         20\n",
       "city                            19\n",
       "ground_fare                     18\n",
       "capacity                        16\n",
       "flight_no                       12\n",
       "meal                             6\n",
       "restriction                      6\n",
       "airline+flight_no                2\n",
       "cheapest                         1\n",
       "ground_service+ground_fare       1\n",
       "airfare+flight_time              1\n",
       "aircraft+flight+flight_no        1\n",
       "Name: Intent, dtype: int64"
      ]
     },
     "execution_count": 49,
     "metadata": {},
     "output_type": "execute_result"
    }
   ],
   "source": [
    "#data_all = pd.read_csv('resources/chatbot_data.csv', encoding = \"latin1\", names = [\"Sentence\", \"Intent\"])\n",
    "data_all.head(5)\n",
    "data_all.Intent.value_counts()"
   ]
  },
  {
   "cell_type": "code",
   "execution_count": 50,
   "metadata": {
    "scrolled": true
   },
   "outputs": [],
   "source": [
    "import string\n",
    "import spacy\n",
    "from spacy.lang.en.stop_words import STOP_WORDS\n",
    "from spacy.lang.en import English\n",
    "\n",
    "# Create our list of punctuation marks\n",
    "punctuations = string.punctuation\n",
    "\n",
    "# Create our list of stopwords\n",
    "nlp = spacy.load('C:/conda/anaconda3/lib/site-packages/en_core_web_sm/en_core_web_sm-2.2.5')\n",
    "stop_words = spacy.lang.en.stop_words.STOP_WORDS\n",
    "\n",
    "# Load English tokenizer, tagger, parser, NER and word vectors\n",
    "parser = English()\n",
    "\n",
    "# Creating our tokenizer function\n",
    "def spacy_tokenizer(sentence):\n",
    "    # Creating our token object, which is used to create documents with linguistic annotations.\n",
    "    mytokens = parser(sentence)\n",
    "\n",
    "    # Lemmatizing each token and converting each token into lowercase\n",
    "    mytokens = [ word.lemma_.lower().strip() if word.lemma_ != \"-PRON-\" else word.lower_ for word in mytokens ]\n",
    "\n",
    "    # Removing stop words\n",
    "    mytokens = [ word for word in mytokens if word not in stop_words and word not in punctuations ]\n",
    "\n",
    "    # return preprocessed list of tokens\n",
    "    return mytokens"
   ]
  },
  {
   "cell_type": "code",
   "execution_count": 51,
   "metadata": {},
   "outputs": [],
   "source": [
    "# Custom transformer using spaCy\n",
    "class predictors(TransformerMixin):\n",
    "    def transform(self, X, **transform_params):\n",
    "        # Cleaning Text\n",
    "        return [clean_text(text) for text in X]\n",
    "\n",
    "    def fit(self, X, y=None, **fit_params):\n",
    "        return self\n",
    "\n",
    "    def get_params(self, deep=True):\n",
    "        return {}\n",
    "\n",
    "# Basic function to clean the text\n",
    "def clean_text(text):\n",
    "    # Removing spaces and converting text into lowercase\n",
    "    return text.strip().lower()"
   ]
  },
  {
   "cell_type": "code",
   "execution_count": 52,
   "metadata": {},
   "outputs": [],
   "source": [
    "bow_vector = CountVectorizer(tokenizer = spacy_tokenizer, ngram_range=(1,1))\n",
    "from sklearn.model_selection import train_test_split\n",
    "\n",
    "X = data_all[\"Sentence\"] # the features we want to analyze\n",
    "ylabels = data_all[\"Intent\"] # the labels, or answers, we want to test against\n",
    "\n",
    "X_train, X_test, y_train, y_test = train_test_split(X, ylabels, test_size=0.3)\n"
   ]
  },
  {
   "cell_type": "markdown",
   "metadata": {},
   "source": [
    "### Extracting relevant information from event log (features) \n",
    "Transform the event log using the one-hot encoding and aggregating session clicks for each customer and session. "
   ]
  },
  {
   "cell_type": "code",
   "execution_count": 55,
   "metadata": {},
   "outputs": [
    {
     "data": {
      "text/plain": [
       "Pipeline(memory=None,\n",
       "         steps=[('cleaner', <__main__.predictors object at 0x0000017F0B966668>),\n",
       "                ('vectorizer',\n",
       "                 CountVectorizer(analyzer='word', binary=False,\n",
       "                                 decode_error='strict',\n",
       "                                 dtype=<class 'numpy.int64'>, encoding='utf-8',\n",
       "                                 input='content', lowercase=True, max_df=1.0,\n",
       "                                 max_features=None, min_df=1,\n",
       "                                 ngram_range=(1, 1), preprocessor=None,\n",
       "                                 stop_words=None, strip_accents=None,\n",
       "                                 token_pattern='(?u)\\\\b\\\\w\\\\w+\\\\b',\n",
       "                                 tokenizer=<function spacy_tokenizer at 0x0000017F7C167730>,\n",
       "                                 vocabulary=None)),\n",
       "                ('classifier',\n",
       "                 LogisticRegression(C=1.0, class_weight=None, dual=False,\n",
       "                                    fit_intercept=True, intercept_scaling=1,\n",
       "                                    l1_ratio=None, max_iter=100,\n",
       "                                    multi_class='warn', n_jobs=None,\n",
       "                                    penalty='l2', random_state=None,\n",
       "                                    solver='lbfgs', tol=0.0001, verbose=0,\n",
       "                                    warm_start=False))],\n",
       "         verbose=False)"
      ]
     },
     "execution_count": 55,
     "metadata": {},
     "output_type": "execute_result"
    }
   ],
   "source": [
    "# Logistic Regression Classifier\n",
    "from sklearn.linear_model import LogisticRegression\n",
    "classifier = LogisticRegression(solver='lbfgs')\n",
    "\n",
    "# Create pipeline using Bag of Words\n",
    "pipe = Pipeline([(\"cleaner\", predictors()),\n",
    "                 ('vectorizer', bow_vector),\n",
    "                 ('classifier', classifier)])\n",
    "\n",
    "# model generation\n",
    "pipe.fit(X_train,y_train)\n",
    "    "
   ]
  },
  {
   "cell_type": "markdown",
   "metadata": {},
   "source": [
    "### Chunking the data based on time to reflect new data processed by IA\n",
    "We first split the data multiple chunks. The last chunk is used as a **unseen data** and the remaining are incrementally added to train the classifier.\n",
    "\n",
    "\n",
    "The **unseen data** is used later to present an **online** scenario where the agent characteristics would be used to decide the level of automation."
   ]
  },
  {
   "cell_type": "markdown",
   "metadata": {},
   "source": [
    "### Prepare the data for the machine learning classifier\n"
   ]
  },
  {
   "cell_type": "markdown",
   "metadata": {},
   "source": [
    "### Train the machine learning model\n",
    "1. The data is split into train and test \n",
    "2. First hyper parameter tuning is done using grid search and cross validation (4-fold)\n",
    "3. The classifier performance is evaluated on the test set"
   ]
  },
  {
   "cell_type": "code",
   "execution_count": 58,
   "metadata": {},
   "outputs": [
    {
     "name": "stderr",
     "output_type": "stream",
     "text": [
      "C:\\conda\\anaconda3\\lib\\site-packages\\sklearn\\metrics\\classification.py:1437: UndefinedMetricWarning: Precision and F-score are ill-defined and being set to 0.0 in labels with no predicted samples.\n",
      "  'precision', 'predicted', average, warn_for)\n",
      "C:\\conda\\anaconda3\\lib\\site-packages\\sklearn\\metrics\\classification.py:1437: UndefinedMetricWarning: Precision and F-score are ill-defined and being set to 0.0 in labels with no predicted samples.\n",
      "  'precision', 'predicted', average, warn_for)\n",
      "C:\\conda\\anaconda3\\lib\\site-packages\\sklearn\\metrics\\classification.py:1437: UndefinedMetricWarning: Precision and F-score are ill-defined and being set to 0.0 in labels with no predicted samples.\n",
      "  'precision', 'predicted', average, warn_for)\n"
     ]
    },
    {
     "name": "stdout",
     "output_type": "stream",
     "text": [
      "           predicted     score               LOA\n",
      "0     ground_service  0.913907   Full Automation\n",
      "1             flight  0.961096   Full Automation\n",
      "2             flight  0.961096   Full Automation\n",
      "3             flight  0.961096   Full Automation\n",
      "4             flight  0.961096   Full Automation\n",
      "...              ...       ...               ...\n",
      "1489         airfare  0.861538  Decision Support\n",
      "1490          flight  0.961096   Full Automation\n",
      "1491         airfare  0.861538  Decision Support\n",
      "1492          flight  0.961096   Full Automation\n",
      "1493         airline  0.822222  Decision Support\n",
      "\n",
      "[1494 rows x 3 columns]\n"
     ]
    }
   ],
   "source": [
    "from sklearn.metrics import classification_report\n",
    "from sklearn.metrics import accuracy_score\n",
    "\n",
    "from sklearn import metrics\n",
    "# Predicting with a test dataset\n",
    "predicted = pipe.predict(X_test)\n",
    "\n",
    "# Model Accuracy\n",
    "\n",
    "\n",
    "from sklearn.metrics import classification_report\n",
    "report = classification_report(y_test, predicted, output_dict=True)\n",
    "\n",
    "f1_dict = dict()\n",
    "for key,val in report.items():\n",
    "    if isinstance(val,dict):\n",
    "        f1_dict[key] = val['f1-score']\n",
    "        \n",
    "\n",
    "        \n",
    "\n"
   ]
  },
  {
   "cell_type": "code",
   "execution_count": 62,
   "metadata": {},
   "outputs": [
    {
     "name": "stdout",
     "output_type": "stream",
     "text": [
      "    predicted     score              LOA\n",
      "0      flight  0.961096  Full Automation\n",
      "1      flight  0.961096  Full Automation\n",
      "2      flight  0.961096  Full Automation\n",
      "3      flight  0.961096  Full Automation\n",
      "4      flight  0.961096  Full Automation\n",
      "..        ...       ...              ...\n",
      "888    flight  0.961096  Full Automation\n",
      "889    flight  0.961096  Full Automation\n",
      "890    flight  0.961096  Full Automation\n",
      "891    flight  0.961096  Full Automation\n",
      "892    flight  0.961096  Full Automation\n",
      "\n",
      "[893 rows x 3 columns]\n"
     ]
    }
   ],
   "source": [
    "# get the distribution of the test data and accuracy\n",
    "#df = pd.DataFrame('pred':predicted)\n",
    "\n",
    "with open('resources/MSDialog-Intent_test.json', 'r') as myfile:\n",
    "    data=myfile.read()\n",
    "\n",
    "# parse file\n",
    "obj = json.loads(data)\n",
    "all_dialogs = obj['rasa_nlu_data']['common_examples']\n",
    "sentences=[]\n",
    "intents=[]\n",
    "for obj in all_dialogs:\n",
    "    sentences.append(obj['text'])\n",
    "    intents.append(obj['intent'])\n",
    "\n",
    "data_test = pd.DataFrame()\n",
    "data_test['Sentence']  = sentences\n",
    "data_test['Intent']  = intents\n",
    "\n",
    "X_unseen = data_test[\"Sentence\"] # the features we want to analyze\n",
    "y_unseen = data_test[\"Intent\"] # the labels, or answers, we want to test against\n",
    "\n",
    "pred = pipe.predict(X_unseen)\n",
    "\n",
    "\n"
   ]
  },
  {
   "cell_type": "code",
   "execution_count": 64,
   "metadata": {},
   "outputs": [
    {
     "name": "stdout",
     "output_type": "stream",
     "text": [
      "    predicted     score              LOA\n",
      "0      flight  0.961096  Full Automation\n",
      "1      flight  0.961096  Full Automation\n",
      "2      flight  0.961096  Full Automation\n",
      "3      flight  0.961096  Full Automation\n",
      "4      flight  0.961096  Full Automation\n",
      "..        ...       ...              ...\n",
      "888    flight  0.961096  Full Automation\n",
      "889    flight  0.961096  Full Automation\n",
      "890    flight  0.961096  Full Automation\n",
      "891    flight  0.961096  Full Automation\n",
      "892    flight  0.961096  Full Automation\n",
      "\n",
      "[893 rows x 3 columns]\n"
     ]
    },
    {
     "data": {
      "image/png": "[encoded data removed]",
      "text/plain": [
       "<Figure size 432x288 with 1 Axes>"
      ]
     },
     "metadata": {},
     "output_type": "display_data"
    }
   ],
   "source": [
    "df = pd.DataFrame({'predicted': pred})\n",
    "df['score']= df['predicted'].apply(lambda x: f1_dict[x])\n",
    "df['LOA']=df['score'].apply(lambda x: 'Full Automation' if x >0.95 else 'Decision Support')\n",
    "print(df)\n",
    "\n",
    "import seaborn as sns\n",
    "sns.set(style=\"whitegrid\")\n",
    "ax = sns.countplot(x=\"LOA\",data=df,  palette=\"Blues_d\")"
   ]
  },
  {
   "cell_type": "markdown",
   "metadata": {},
   "source": [
    "### Evaluating resource characteristic on unseen data\n"
   ]
  },
  {
   "cell_type": "code",
   "execution_count": null,
   "metadata": {},
   "outputs": [],
   "source": []
  }
 ],
 "metadata": {
  "kernelspec": {
   "display_name": "Python 3",
   "language": "python",
   "name": "python3"
  },
  "language_info": {
   "codemirror_mode": {
    "name": "ipython",
    "version": 3
   },
   "file_extension": ".py",
   "mimetype": "text/x-python",
   "name": "python",
   "nbconvert_exporter": "python",
   "pygments_lexer": "ipython3",
   "version": "3.7.1"
  }
 },
 "nbformat": 4,
 "nbformat_minor": 2
}
